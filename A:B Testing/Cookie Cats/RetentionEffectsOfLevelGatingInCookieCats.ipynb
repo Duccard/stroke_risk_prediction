{
 "cells": [
  {
   "cell_type": "markdown",
   "metadata": {},
   "source": [
    "# **Retention Effects of Level Gating in Cookie Cats**\n"
   ]
  },
  {
   "cell_type": "markdown",
   "metadata": {},
   "source": [
    "## Introduction"
   ]
  },
  {
   "cell_type": "markdown",
   "metadata": {},
   "source": [
    "### Goal"
   ]
  },
  {
   "cell_type": "markdown",
   "metadata": {},
   "source": [
    "Cookie Cats is a popular mobile game. A key feature is a \"gate\" that requires players to wait or pay after reaching a certain level.\n",
    "\n",
    "An A/B test was run to determine whether placing this gate at level 30 (control) or level 40 (treatment) leads to better player retention.\n",
    "\n",
    "**Goal: To determine whether moving the gate from level 30 to level 40 has a positive impact on player retention.**\n"
   ]
  },
  {
   "cell_type": "markdown",
   "metadata": {},
   "source": [
    "### Target Metric"
   ]
  },
  {
   "cell_type": "markdown",
   "metadata": {},
   "source": [
    "The target metric is **retention**, measured in two ways:\n",
    "\n",
    "- **1-day retention**: Whether a user returned to the game one day after installing it.\n",
    "- **7-day retention**: Whether a user returned to the game seven days after installing it.\n",
    "\n",
    "These binary metrics (Yes = 1, No = 0) allow us to assess short- and medium-term user engagement.\n"
   ]
  },
  {
   "cell_type": "markdown",
   "metadata": {},
   "source": [
    "### Retention"
   ]
  },
  {
   "cell_type": "markdown",
   "metadata": {},
   "source": [
    "**Retention** is a metric that tells us whether users return to the app or game after a certain amount of time.\n",
    "\n",
    "Retention helps us understand how **engaging** and **sticky** the game is. If more users come back, it means the game is likely more enjoyable and effective at keeping their attention.\n",
    "\n",
    "**1-Day Retention**\n",
    "Measures short-term engagement.\n",
    "\n",
    "Tells you if the game was interesting enough for players to come back quickly.\n",
    "\n",
    "It's often used to spot major onboarding or early gameplay issues.\n",
    "\n",
    "But: Some users need more time to get hooked, so 1-day retention can miss long-term effects.\n",
    "\n",
    "**7-Day Retention**\n",
    "Measures medium-term engagement.\n",
    "\n",
    "Tells you whether users stick around after the first few sessions.\n",
    "\n",
    "More useful for judging lasting interest and habit-building."
   ]
  },
  {
   "cell_type": "markdown",
   "metadata": {},
   "source": [
    " ### Statistical Hypotheses"
   ]
  },
  {
   "cell_type": "markdown",
   "metadata": {},
   "source": [
    "1. 1-Day Retention:\n",
    "\n",
    "Null Hypothesis (H₀): **H₀: retention_1_gate30 = retention_1_gate40**\n",
    "\n",
    "There is no difference in 1-day retention rates between users who faced the gate at level 30 and those who faced it at level 40.\n",
    "\n",
    "Alternative Hypothesis (H₁): **H₀: retention_1_gate30 ≠ retention_1_gate40**\n",
    "\n",
    "There is a difference in 1-day retention rates between the two groups.\n",
    "\n",
    "2. 7-Day Retention:\n",
    "\n",
    "Null Hypothesis (H₀): **H₀: retention_7_gate30 = retention_7_gate40**\n",
    "There is no difference in 7-day retention rates between the two groups.\n",
    "\n",
    "Alternative Hypothesis (H₁): **H₀: retention_7_gate30 ≠ retention_7_gate40**\n",
    "There is a difference in 7-day retention rates between the two groups.\n"
   ]
  },
  {
   "cell_type": "markdown",
   "metadata": {},
   "source": [
    "### Loading and exploring data"
   ]
  },
  {
   "cell_type": "markdown",
   "metadata": {},
   "source": [
    "Importing libraries :"
   ]
  },
  {
   "cell_type": "code",
   "execution_count": 1,
   "metadata": {},
   "outputs": [],
   "source": [
    "import pandas as pd\n",
    "from scipy.stats import chisquare\n",
    "import numpy as np\n",
    "import seaborn as sns\n",
    "import matplotlib.pyplot as plt\n",
    "import warnings\n",
    "from scipy.stats import zscore\n",
    "from scipy.stats import chi2_contingency\n",
    "from scipy.stats import shapiro\n",
    "from scipy.stats import levene\n",
    "from CustomFunctionsCookieCats import (\n",
    "    plot_game_rounds_boxplot,\n",
    "    plot_1_day_retention_barplot,\n",
    "    plot_7_day_retention_barplot,\n",
    "    plot_retention_comparison_barplot,\n",
    "    bootstrap_ci,\n",
    ")"
   ]
  },
  {
   "cell_type": "markdown",
   "metadata": {},
   "source": [
    "Checking shape and reading the database :"
   ]
  },
  {
   "cell_type": "code",
   "execution_count": 2,
   "metadata": {},
   "outputs": [
    {
     "name": "stdout",
     "output_type": "stream",
     "text": [
      "Initial shape: (90189, 5)\n"
     ]
    },
    {
     "data": {
      "text/html": [
       "<div>\n",
       "<style scoped>\n",
       "    .dataframe tbody tr th:only-of-type {\n",
       "        vertical-align: middle;\n",
       "    }\n",
       "\n",
       "    .dataframe tbody tr th {\n",
       "        vertical-align: top;\n",
       "    }\n",
       "\n",
       "    .dataframe thead th {\n",
       "        text-align: right;\n",
       "    }\n",
       "</style>\n",
       "<table border=\"1\" class=\"dataframe\">\n",
       "  <thead>\n",
       "    <tr style=\"text-align: right;\">\n",
       "      <th></th>\n",
       "      <th>userid</th>\n",
       "      <th>version</th>\n",
       "      <th>sum_gamerounds</th>\n",
       "      <th>retention_1</th>\n",
       "      <th>retention_7</th>\n",
       "    </tr>\n",
       "  </thead>\n",
       "  <tbody>\n",
       "    <tr>\n",
       "      <th>0</th>\n",
       "      <td>116</td>\n",
       "      <td>gate_30</td>\n",
       "      <td>3</td>\n",
       "      <td>False</td>\n",
       "      <td>False</td>\n",
       "    </tr>\n",
       "    <tr>\n",
       "      <th>1</th>\n",
       "      <td>337</td>\n",
       "      <td>gate_30</td>\n",
       "      <td>38</td>\n",
       "      <td>True</td>\n",
       "      <td>False</td>\n",
       "    </tr>\n",
       "    <tr>\n",
       "      <th>2</th>\n",
       "      <td>377</td>\n",
       "      <td>gate_40</td>\n",
       "      <td>165</td>\n",
       "      <td>True</td>\n",
       "      <td>False</td>\n",
       "    </tr>\n",
       "    <tr>\n",
       "      <th>3</th>\n",
       "      <td>483</td>\n",
       "      <td>gate_40</td>\n",
       "      <td>1</td>\n",
       "      <td>False</td>\n",
       "      <td>False</td>\n",
       "    </tr>\n",
       "    <tr>\n",
       "      <th>4</th>\n",
       "      <td>488</td>\n",
       "      <td>gate_40</td>\n",
       "      <td>179</td>\n",
       "      <td>True</td>\n",
       "      <td>True</td>\n",
       "    </tr>\n",
       "  </tbody>\n",
       "</table>\n",
       "</div>"
      ],
      "text/plain": [
       "   userid  version  sum_gamerounds  retention_1  retention_7\n",
       "0     116  gate_30               3        False        False\n",
       "1     337  gate_30              38         True        False\n",
       "2     377  gate_40             165         True        False\n",
       "3     483  gate_40               1        False        False\n",
       "4     488  gate_40             179         True         True"
      ]
     },
     "execution_count": 2,
     "metadata": {},
     "output_type": "execute_result"
    }
   ],
   "source": [
    "df = pd.read_csv(\"cookie_cats.csv\")\n",
    "print(\"Initial shape:\", df.shape)\n",
    "df.head()"
   ]
  },
  {
   "cell_type": "markdown",
   "metadata": {},
   "source": [
    "Check data shape, column names, nulls, and group sizes :"
   ]
  },
  {
   "cell_type": "code",
   "execution_count": 3,
   "metadata": {},
   "outputs": [
    {
     "name": "stdout",
     "output_type": "stream",
     "text": [
      "<class 'pandas.core.frame.DataFrame'>\n",
      "RangeIndex: 90189 entries, 0 to 90188\n",
      "Data columns (total 5 columns):\n",
      " #   Column          Non-Null Count  Dtype \n",
      "---  ------          --------------  ----- \n",
      " 0   userid          90189 non-null  int64 \n",
      " 1   version         90189 non-null  object\n",
      " 2   sum_gamerounds  90189 non-null  int64 \n",
      " 3   retention_1     90189 non-null  bool  \n",
      " 4   retention_7     90189 non-null  bool  \n",
      "dtypes: bool(2), int64(2), object(1)\n",
      "memory usage: 2.2+ MB\n"
     ]
    },
    {
     "data": {
      "text/plain": [
       "retention_1    0.445210\n",
       "retention_7    0.186065\n",
       "dtype: float64"
      ]
     },
     "execution_count": 3,
     "metadata": {},
     "output_type": "execute_result"
    }
   ],
   "source": [
    "df.info()\n",
    "df[\"version\"].value_counts(normalize=True)\n",
    "df[[\"retention_1\", \"retention_7\"]].mean()"
   ]
  },
  {
   "cell_type": "markdown",
   "metadata": {},
   "source": [
    "## Data cleaning and dealing with outliers :"
   ]
  },
  {
   "cell_type": "markdown",
   "metadata": {},
   "source": [
    "Let's check the missing values :"
   ]
  },
  {
   "cell_type": "code",
   "execution_count": 4,
   "metadata": {},
   "outputs": [
    {
     "name": "stdout",
     "output_type": "stream",
     "text": [
      "Missing values:\n",
      "userid            0\n",
      "version           0\n",
      "sum_gamerounds    0\n",
      "retention_1       0\n",
      "retention_7       0\n",
      "dtype: int64\n"
     ]
    }
   ],
   "source": [
    "print(\"Missing values:\")\n",
    "print(df.isnull().sum())"
   ]
  },
  {
   "cell_type": "markdown",
   "metadata": {},
   "source": [
    "Removing any rows where retention values were missing (to avoid incorrect results) :"
   ]
  },
  {
   "cell_type": "code",
   "execution_count": 5,
   "metadata": {},
   "outputs": [
    {
     "name": "stdout",
     "output_type": "stream",
     "text": [
      "After null drop: (90189, 5)\n",
      "count    90189.000000\n",
      "mean        51.872457\n",
      "std        195.050858\n",
      "min          0.000000\n",
      "25%          5.000000\n",
      "50%         16.000000\n",
      "75%         51.000000\n",
      "max      49854.000000\n",
      "Name: sum_gamerounds, dtype: float64\n"
     ]
    }
   ],
   "source": [
    "df = df.dropna(subset=[\"retention_1\", \"retention_7\"])\n",
    "\n",
    "print(\"After null drop:\", df.shape)\n",
    "print(df[\"sum_gamerounds\"].describe())"
   ]
  },
  {
   "cell_type": "markdown",
   "metadata": {},
   "source": [
    "Looked for outliers in sum_gamerounds (like people who played hundreds of rounds, which can skew your results). Before outlier removal :"
   ]
  },
  {
   "cell_type": "code",
   "execution_count": 6,
   "metadata": {},
   "outputs": [
    {
     "data": {
      "image/png": "[encoded data removed]",
      "text/plain": [
       "<Figure size 1000x400 with 1 Axes>"
      ]
     },
     "metadata": {},
     "output_type": "display_data"
    }
   ],
   "source": [
    "plot_game_rounds_boxplot(df, title=\"Game Rounds (Before Outlier Removal)\")"
   ]
  },
  {
   "cell_type": "markdown",
   "metadata": {},
   "source": [
    "Removingtop 1%, this keeps my data fair and clean — a few strange users shouldn’t affect the whole test. :\n"
   ]
  },
  {
   "cell_type": "code",
   "execution_count": 7,
   "metadata": {},
   "outputs": [
    {
     "name": "stdout",
     "output_type": "stream",
     "text": [
      "After outlier removal: (89291, 5)\n"
     ]
    }
   ],
   "source": [
    "upper_limit = df[\"sum_gamerounds\"].quantile(0.99)\n",
    "df = df[df[\"sum_gamerounds\"] <= upper_limit]\n",
    "\n",
    "print(\"After outlier removal:\", df.shape)"
   ]
  },
  {
   "cell_type": "markdown",
   "metadata": {},
   "source": [
    "Checking how it looks after cleaning :"
   ]
  },
  {
   "cell_type": "code",
   "execution_count": 8,
   "metadata": {},
   "outputs": [
    {
     "data": {
      "image/png": "[encoded data removed]",
      "text/plain": [
       "<Figure size 1000x400 with 1 Axes>"
      ]
     },
     "metadata": {},
     "output_type": "display_data"
    }
   ],
   "source": [
    "plot_game_rounds_boxplot(df, title=\"Game Rounds (After Outlier Removal)\")"
   ]
  },
  {
   "cell_type": "code",
   "execution_count": 9,
   "metadata": {},
   "outputs": [
    {
     "name": "stdout",
     "output_type": "stream",
     "text": [
      "Group sizes:\n",
      " version\n",
      "gate_40    45037\n",
      "gate_30    44254\n",
      "Name: count, dtype: int64\n",
      "Retention rates:\n",
      " retention_1    0.439888\n",
      "retention_7    0.178327\n",
      "dtype: float64\n"
     ]
    }
   ],
   "source": [
    "print(\"Group sizes:\\n\", df[\"version\"].value_counts())\n",
    "print(\"Retention rates:\\n\", df[[\"retention_1\", \"retention_7\"]].mean())"
   ]
  },
  {
   "cell_type": "markdown",
   "metadata": {},
   "source": [
    "## SRM and filtering players who didn't reach gate 30"
   ]
  },
  {
   "cell_type": "markdown",
   "metadata": {},
   "source": [
    "### Sample ratio mismatch (SRM) check before players filtering"
   ]
  },
  {
   "cell_type": "markdown",
   "metadata": {},
   "source": [
    "The SRM check tells us whether the split between groups (gate_30 vs gate_40) was done fairly and randomly.\n",
    "In an ideal A/B test, we expect the groups to be close to 50/50, unless intentionally designed otherwise."
   ]
  },
  {
   "cell_type": "code",
   "execution_count": 10,
   "metadata": {},
   "outputs": [
    {
     "name": "stdout",
     "output_type": "stream",
     "text": [
      "SRM check: chi2 = 6.87, p = 0.0088\n"
     ]
    }
   ],
   "source": [
    "observed = df[\"version\"].value_counts().values\n",
    "expected = [len(df) / 2, len(df) / 2]\n",
    "\n",
    "chi2, p_srm = chisquare(f_obs=observed, f_exp=expected)\n",
    "print(f\"SRM check: chi2 = {chi2:.2f}, p = {p_srm:.4f}\")"
   ]
  },
  {
   "cell_type": "markdown",
   "metadata": {},
   "source": [
    "The p-value is less than 0.05, which means this result is statistically significant.\n",
    "\n",
    "That suggests a Sample Ratio Mismatch occurred:\n",
    "The actual split between gate_30 and gate_40 users deviated more than expected by chance."
   ]
  },
  {
   "cell_type": "code",
   "execution_count": 11,
   "metadata": {},
   "outputs": [
    {
     "name": "stdout",
     "output_type": "stream",
     "text": [
      "SRM check: chi2 = 6.87, p = 0.0088\n"
     ]
    }
   ],
   "source": [
    "observed = df[\"version\"].value_counts().values\n",
    "expected = [len(df) / 2, len(df) / 2]\n",
    "\n",
    "chi2, p_srm = chisquare(f_obs=observed, f_exp=expected)\n",
    "print(f\"SRM check: chi2 = {chi2:.2f}, p = {p_srm:.4f}\")"
   ]
  },
  {
   "cell_type": "markdown",
   "metadata": {},
   "source": [
    "###  Filtering for Players Who Reached the Gate\n"
   ]
  },
  {
   "cell_type": "markdown",
   "metadata": {},
   "source": [
    "To ensure we’re only analyzing users affected by the gate, we filter out those who didn’t reach level 30. \n",
    "Since we don’t have exact level data, we assume that completing at least **30 game rounds** corresponds to reaching level 30.\n",
    "\n",
    "This step makes our analysis more relevant by focusing only on users who could have interacted with the gate at level 30 or 40."
   ]
  },
  {
   "cell_type": "code",
   "execution_count": 12,
   "metadata": {},
   "outputs": [
    {
     "name": "stdout",
     "output_type": "stream",
     "text": [
      "After filtering players who likely reached level 30: (32371, 5)\n"
     ]
    }
   ],
   "source": [
    "df = df[df[\"sum_gamerounds\"] >= 30]\n",
    "print(\"After filtering players who likely reached level 30:\", df.shape)"
   ]
  },
  {
   "cell_type": "markdown",
   "metadata": {},
   "source": [
    "### Sample ratio mismatch (SRM) check after players filtering"
   ]
  },
  {
   "cell_type": "markdown",
   "metadata": {},
   "source": [
    "I am testing if both groups had about the same number of users using a Chi-square test. If one group had way more users, the test might be unfair."
   ]
  },
  {
   "cell_type": "code",
   "execution_count": 13,
   "metadata": {},
   "outputs": [
    {
     "name": "stdout",
     "output_type": "stream",
     "text": [
      "SRM check: chi2 = 0.07, p = 0.7854\n"
     ]
    }
   ],
   "source": [
    "observed = df[\"version\"].value_counts().values\n",
    "expected = [len(df) / 2, len(df) / 2]\n",
    "\n",
    "chi2, p_srm = chisquare(f_obs=observed, f_exp=expected)\n",
    "print(f\"SRM check: chi2 = {chi2:.2f}, p = {p_srm:.4f}\")"
   ]
  },
  {
   "cell_type": "markdown",
   "metadata": {},
   "source": [
    "**Conclusion on filtering players and SRM checks:**\n",
    "\n",
    "Although the initial SRM check showed a statistically significant imbalance (Chi² = 6.87, p = 0.0088), we later **filtered the dataset** to include only users who had the opportunity to reach level 30. This resolved the mismatch, as confirmed by a post-filter SRM check (Chi² = 0.07, p = 0.7854).\n",
    "\n",
    "However, since SRM was present in the original dataset, it's possible that **hidden biases or imbalances** still exist. To ensure robustness, I will apply **bootstrapping** to estimate confidence intervals for the treatment effect later on in the project.\n",
    "\n"
   ]
  },
  {
   "cell_type": "markdown",
   "metadata": {},
   "source": [
    "## 1-Day Retention Analysis"
   ]
  },
  {
   "cell_type": "markdown",
   "metadata": {},
   "source": [
    "### Separating groups and testing for normality"
   ]
  },
  {
   "cell_type": "markdown",
   "metadata": {},
   "source": [
    "I will now separate the users into two groups based on which version of the game they received:\n",
    "\n",
    "- `group_A` contains the 1-day retention data for users who encountered the gate at **level 30** (control group).\n",
    "- `group_B` contains the 1-day retention data for users who encountered the gate at **level 40** (test group).\n",
    "\n",
    "This allows me to directly compare the retention rates between the two groups and run statistical tests."
   ]
  },
  {
   "cell_type": "code",
   "execution_count": 14,
   "metadata": {},
   "outputs": [],
   "source": [
    "group_A_1 = df[df[\"version\"] == \"gate_30\"][\"retention_1\"]\n",
    "group_B_1 = df[df[\"version\"] == \"gate_40\"][\"retention_1\"]"
   ]
  },
  {
   "cell_type": "markdown",
   "metadata": {},
   "source": [
    "To check whether 1-day retention values follow a normal distribution, we applied the Shapiro-Wilk test to both groups:"
   ]
  },
  {
   "cell_type": "code",
   "execution_count": null,
   "metadata": {},
   "outputs": [
    {
     "name": "stdout",
     "output_type": "stream",
     "text": [
      "Shapiro-Wilk test (gate_30): statistic = 0.4939, p-value = 7.70e-111\n",
      "Shapiro-Wilk test (gate_40): statistic = 0.4932, p-value = 8.59e-111\n"
     ]
    }
   ],
   "source": [
    "with warnings.catch_warnings():\n",
    "    warnings.filterwarnings(\"ignore\", message=\".*scipy.stats.shapiro.*\")\n",
    "\n",
    "    stat_30, pval_30 = shapiro(group_A_1)\n",
    "    stat_40, pval_40 = shapiro(group_B_1)\n",
    "\n",
    "print(\n",
    "    f\"Shapiro-Wilk test (gate_30): statistic = {stat_30:.4f}, p-value = {pval_30:.2e}\"\n",
    ")\n",
    "print(\n",
    "    f\"Shapiro-Wilk test (gate_40): statistic = {stat_40:.4f}, p-value = {pval_40:.2e}\"\n",
    ")"
   ]
  },
  {
   "cell_type": "markdown",
   "metadata": {},
   "source": [
    "\n",
    "- **Gate 30** statistic = 0.4939, p-value = 7.70e-111  \n",
    "- **Gate 40** statistic = 0.4932, p-value = 8.59e-111  \n",
    "\n",
    "These extremely low p-values indicate that **1-day retention data is not normally distributed**, which is expected since retention is a **binary variable** (0 or 1). Additionally, due to the large sample size (N > 5000), the p-values should be interpreted with caution.\n",
    "\n",
    "**Conclusion:** Since the assumption of normality is violated, we rely on **non-parametric methods** (like the Chi-square test and bootstrapping) instead of parametric tests such as the t-test."
   ]
  },
  {
   "cell_type": "markdown",
   "metadata": {},
   "source": [
    "### Chi-square test "
   ]
  },
  {
   "cell_type": "markdown",
   "metadata": {},
   "source": [
    "Chi-square test, this helps me understand if the difference in retention between the two groups is real or just due to random chance :"
   ]
  },
  {
   "cell_type": "code",
   "execution_count": 16,
   "metadata": {},
   "outputs": [
    {
     "name": "stdout",
     "output_type": "stream",
     "text": [
      "Chi-square test for 1-day retention:\n",
      "χ² = 0.02, p = 0.9007\n"
     ]
    }
   ],
   "source": [
    "contingency = pd.crosstab(df[\"version\"], df[\"retention_1\"])\n",
    "chi2, p, dof, expected = chi2_contingency(contingency)\n",
    "print(\"Chi-square test for 1-day retention:\")\n",
    "print(f\"χ² = {chi2:.2f}, p = {p:.4f}\")"
   ]
  },
  {
   "cell_type": "markdown",
   "metadata": {},
   "source": [
    "This test supports the null(H0) hypothesis. The p-value (0.9007) is much greater than 0.05."
   ]
  },
  {
   "cell_type": "markdown",
   "metadata": {},
   "source": [
    "### Treatment effect"
   ]
  },
  {
   "cell_type": "markdown",
   "metadata": {},
   "source": [
    "The treatment effect is the difference in the metric between the treatment and control groups.\n",
    "\n",
    "Treatment effect :"
   ]
  },
  {
   "cell_type": "code",
   "execution_count": 17,
   "metadata": {},
   "outputs": [
    {
     "name": "stdout",
     "output_type": "stream",
     "text": [
      "Gate 30 1-day retention: 0.7963 (79.63%)\n",
      "Gate 40 1-day retention: 0.7969 (79.69%)\n",
      "Treatment effect (Gate 40 - Gate 30): 0.0006 (0.06%)\n"
     ]
    }
   ],
   "source": [
    "retention_A_1 = group_A_1.mean()\n",
    "retention_B_1 = group_B_1.mean()\n",
    "treatment_effect_1 = retention_B_1 - retention_A_1\n",
    "\n",
    "print(f\"Gate 30 1-day retention: {retention_A_1:.4f} ({retention_A_1:.2%})\")\n",
    "print(f\"Gate 40 1-day retention: {retention_B_1:.4f} ({retention_B_1:.2%})\")\n",
    "print(\n",
    "    f\"Treatment effect (Gate 40 - Gate 30): {treatment_effect_1:.4f} ({treatment_effect_1:.2%})\"\n",
    ")"
   ]
  },
  {
   "cell_type": "markdown",
   "metadata": {},
   "source": [
    "The effect size is tiny, but Gate 40 has slightly higher 1-day retention than Gate 30."
   ]
  },
  {
   "cell_type": "markdown",
   "metadata": {},
   "source": [
    "### Bootstrap confidence interval "
   ]
  },
  {
   "cell_type": "markdown",
   "metadata": {},
   "source": [
    "Bootstrapping:\n",
    "- Makes no assumptions about the shape of the data\n",
    "- Is robust to mild irregularities or imbalances\n",
    "- Helps validate the results of parametric tests\n",
    "\n",
    "This approach will allow me to better quantify uncertainty and validate the reliability of my findings, especially in light of the initial imbalance."
   ]
  },
  {
   "cell_type": "markdown",
   "metadata": {},
   "source": [
    "Let's use bootstrapping to simulate thousands of “what ifs” based on the data. This will give me a range of possible values for the difference in retention."
   ]
  },
  {
   "cell_type": "code",
   "execution_count": 18,
   "metadata": {},
   "outputs": [
    {
     "name": "stdout",
     "output_type": "stream",
     "text": [
      "Bootstrap 95% CI for treatment effect: [-0.00829794  0.00964227]\n"
     ]
    }
   ],
   "source": [
    "ci = bootstrap_ci(group_A_1.values, group_B_1.values)\n",
    "print(\"Bootstrap 95% CI for treatment effect:\", ci)"
   ]
  },
  {
   "cell_type": "markdown",
   "metadata": {},
   "source": [
    "The 95% confidence interval for the difference in 1-day retention between the groups is approximately **[−0.82%, +0.95%]**.\n",
    "\n",
    "Since this range **includes 0**, we cannot be confident that there is a real effect — the observed difference in retention could be due to random chance.\n",
    "\n",
    "This confidence interval supports the null hypothesis (H0)."
   ]
  },
  {
   "cell_type": "markdown",
   "metadata": {},
   "source": [
    "### 1-Day Retention Rate by Gate Version"
   ]
  },
  {
   "cell_type": "code",
   "execution_count": 19,
   "metadata": {},
   "outputs": [
    {
     "data": {
      "image/png": "[encoded data removed]",
      "text/plain": [
       "<Figure size 600x500 with 1 Axes>"
      ]
     },
     "metadata": {},
     "output_type": "display_data"
    }
   ],
   "source": [
    "plot_1_day_retention_barplot(df)"
   ]
  },
  {
   "cell_type": "markdown",
   "metadata": {},
   "source": [
    "\n",
    "This bar chart compares the 1-day retention rates of users who reached at least level 30.  \n",
    "\n",
    "Retention is slightly higher in the Gate 40 group (79.69%) compared to Gate 30 (79.63%),  \n",
    "but the difference is **very small** and likely due to chance."
   ]
  },
  {
   "cell_type": "markdown",
   "metadata": {},
   "source": [
    "### Conclusion and recommendation on 1 day retention"
   ]
  },
  {
   "cell_type": "markdown",
   "metadata": {},
   "source": [
    "The difference in 1-day retention between `gate_30` and `gate_40` is **+0.0006** (+0.06 percentage points), meaning retention **slightly increased** when the gate was moved to level 40 — but the change is extremely small.\n",
    "\n",
    "- **Chi-square p-value:** 0.9007  \n",
    "- **Bootstrap 95% Confidence Interval:** [−0.82%, +0.95%]\n",
    "\n",
    "Since the **p-value is very high** and the **confidence interval includes 0**, the difference is **not statistically significant**.\n"
   ]
  },
  {
   "cell_type": "markdown",
   "metadata": {},
   "source": [
    "**Recommendation:**\n",
    "Keep the gate at **level 30**.\n",
    "\n",
    "The observed change is negligible and not enough to justify altering the game flow."
   ]
  },
  {
   "cell_type": "markdown",
   "metadata": {},
   "source": [
    "## 7-Day Retention Analysis"
   ]
  },
  {
   "cell_type": "markdown",
   "metadata": {},
   "source": [
    "### Separating groups and testing for normality"
   ]
  },
  {
   "cell_type": "markdown",
   "metadata": {},
   "source": [
    "Separating groups :"
   ]
  },
  {
   "cell_type": "code",
   "execution_count": 20,
   "metadata": {},
   "outputs": [],
   "source": [
    "group_A_7 = df[df[\"version\"] == \"gate_30\"][\"retention_7\"]\n",
    "group_B_7 = df[df[\"version\"] == \"gate_40\"][\"retention_7\"]"
   ]
  },
  {
   "cell_type": "markdown",
   "metadata": {},
   "source": [
    "Testing for normality :"
   ]
  },
  {
   "cell_type": "code",
   "execution_count": 21,
   "metadata": {},
   "outputs": [
    {
     "name": "stdout",
     "output_type": "stream",
     "text": [
      "Shapiro-Wilk test (gate_30, 7-day): statistic = 0.6283, p-value = 7.35e-103\n",
      "Shapiro-Wilk test (gate_40, 7-day): statistic = 0.6261, p-value = 6.21e-103\n"
     ]
    }
   ],
   "source": [
    "with warnings.catch_warnings():\n",
    "    warnings.filterwarnings(\"ignore\", category=UserWarning)\n",
    "\n",
    "    stat_30_7, pval_30_7 = shapiro(group_A_7)\n",
    "    stat_40_7, pval_40_7 = shapiro(group_B_7)\n",
    "\n",
    "print(\n",
    "    f\"Shapiro-Wilk test (gate_30, 7-day): statistic = {stat_30_7:.4f}, p-value = {pval_30_7:.2e}\"\n",
    ")\n",
    "print(\n",
    "    f\"Shapiro-Wilk test (gate_40, 7-day): statistic = {stat_40_7:.4f}, p-value = {pval_40_7:.2e}\"\n",
    ")"
   ]
  },
  {
   "cell_type": "markdown",
   "metadata": {},
   "source": [
    "**Conclusions:**\n",
    "- **Gate 30** - statistic = 0.6283, p-value = 7.35e-103  \n",
    "- **Gate 40** - statistic = 0.6261, p-value = 6.21e-103  \n",
    "\n",
    "These extremely low p-values indicate that the **7-day retention data is not normally distributed**, which is expected since retention is a **binary variable** (0 or 1). This supports our choice to rely on **non-parametric methods**, such as the Chi-square test and bootstrapping.\n",
    "\n",
    "Normality is violated. I will continue using non-parametric tests for statistical analysis."
   ]
  },
  {
   "cell_type": "markdown",
   "metadata": {},
   "source": [
    "### Chi-square test"
   ]
  },
  {
   "cell_type": "markdown",
   "metadata": {},
   "source": [
    "Chi-square test results :"
   ]
  },
  {
   "cell_type": "code",
   "execution_count": 22,
   "metadata": {},
   "outputs": [],
   "source": [
    "contingency_7 = pd.crosstab(df[\"version\"], df[\"retention_7\"])\n",
    "chi2_7, p_value_7, _, _ = chi2_contingency(contingency_7)"
   ]
  },
  {
   "cell_type": "markdown",
   "metadata": {},
   "source": [
    "The p-value (0.0012) is below 0.05, meaning the difference in 7-day retention between the two gate versions is statistically significant — the gate location does influence long-term engagement.\n",
    "\n",
    "This test rejects H0 and supports H1 hypothesis."
   ]
  },
  {
   "cell_type": "markdown",
   "metadata": {},
   "source": [
    "### Treatment effect"
   ]
  },
  {
   "cell_type": "markdown",
   "metadata": {},
   "source": [
    "I will calculate the average 7-day retention for each group and the treatment effect, which is the difference between them :"
   ]
  },
  {
   "cell_type": "code",
   "execution_count": 23,
   "metadata": {},
   "outputs": [
    {
     "name": "stdout",
     "output_type": "stream",
     "text": [
      "Gate 30 7-day retention: 0.4247 (42.47%)\n",
      "Gate 40 7-day retention: 0.4152 (41.52%)\n",
      "Treatment effect (Gate 40 - Gate 30): -0.0095 (-0.95%)\n"
     ]
    }
   ],
   "source": [
    "retention_A_7 = group_A_7.mean()\n",
    "retention_B_7 = group_B_7.mean()\n",
    "treatment_effect_7 = retention_B_7 - retention_A_7\n",
    "\n",
    "print(f\"Gate 30 7-day retention: {retention_A_7:.4f} ({retention_A_7:.2%})\")\n",
    "print(f\"Gate 40 7-day retention: {retention_B_7:.4f} ({retention_B_7:.2%})\")\n",
    "print(\n",
    "    f\"Treatment effect (Gate 40 - Gate 30): {treatment_effect_7:.4f} ({treatment_effect_7:.2%})\"\n",
    ")"
   ]
  },
  {
   "cell_type": "markdown",
   "metadata": {},
   "source": [
    "Gate 40 led to a slightly lower 7-day retention rate (−0.95%), suggesting it may reduce long-term player engagement."
   ]
  },
  {
   "cell_type": "markdown",
   "metadata": {},
   "source": [
    "### Bootstrap confidence interval "
   ]
  },
  {
   "cell_type": "code",
   "execution_count": 24,
   "metadata": {},
   "outputs": [
    {
     "name": "stdout",
     "output_type": "stream",
     "text": [
      "Bootstrap 95% CI for 7-day treatment effect: [-0.0202952   0.00108234]\n"
     ]
    }
   ],
   "source": [
    "ci_7 = bootstrap_ci(group_A_7.values, group_B_7.values)\n",
    "print(\"Bootstrap 95% CI for 7-day treatment effect:\", ci_7)"
   ]
  },
  {
   "cell_type": "markdown",
   "metadata": {},
   "source": [
    "**Bootstrap 95% CI**: [-2.04%, +0.13%]\n",
    "\n",
    "Since this confidence interval **includes 0**, we cannot be 95% confident that the observed difference is real.  \n",
    "While the treatment effect suggests lower 7-day retention with gate_40, the result is **not statistically significant** based on this interval alone."
   ]
  },
  {
   "cell_type": "markdown",
   "metadata": {},
   "source": [
    "I use the following line to estimate the **95% confidence interval** for the difference in 7-day retention between the two groups:\n"
   ]
  },
  {
   "cell_type": "code",
   "execution_count": 25,
   "metadata": {},
   "outputs": [],
   "source": [
    "ci_7 = bootstrap_ci(group_A_7.values, group_B_7.values)"
   ]
  },
  {
   "cell_type": "markdown",
   "metadata": {},
   "source": [
    "### 7-Day Retention Rate by Gate Version"
   ]
  },
  {
   "cell_type": "code",
   "execution_count": 26,
   "metadata": {},
   "outputs": [
    {
     "data": {
      "image/png": "[encoded data removed]",
      "text/plain": [
       "<Figure size 600x500 with 1 Axes>"
      ]
     },
     "metadata": {},
     "output_type": "display_data"
    }
   ],
   "source": [
    "retention_7_clean_df = pd.DataFrame(\n",
    "    {\n",
    "        \"version\": [\"gate_30\", \"gate_40\"],\n",
    "        \"retention_7\": [0.1902, 0.1820],\n",
    "    }\n",
    ")\n",
    "plot_7_day_retention_barplot(retention_7_clean_df)"
   ]
  },
  {
   "cell_type": "markdown",
   "metadata": {},
   "source": [
    "Chart compares the 7-day retention of players who reached at least level 30.  \n",
    "While both groups show similar engagement, retention is slightly higher in the Gate 30 group, suggesting better long-term performance with the gate placed earlier."
   ]
  },
  {
   "cell_type": "markdown",
   "metadata": {},
   "source": [
    "### Conclusion and recommendation on 7 day retention"
   ]
  },
  {
   "cell_type": "markdown",
   "metadata": {},
   "source": [
    "**Conclusion**\n",
    "\n",
    "The 7-day retention rate was:\n",
    "\n",
    "- **Gate 30:** 19.02%  \n",
    "- **Gate 40:** 18.20%  \n",
    "- **Treatment Effect:** −0.82 percentage points\n",
    "\n",
    "**Bootstrap 95% Confidence Interval:** [−2.04%, +0.13%]  \n",
    "This interval includes 0, meaning the difference is **not statistically significant** at the 95% confidence level.  \n",
    "The drop in retention suggests a possible negative effect, but we **cannot be fully confident** it's not due to chance.\n"
   ]
  },
  {
   "cell_type": "markdown",
   "metadata": {},
   "source": [
    "**Recommendation**"
   ]
  },
  {
   "cell_type": "markdown",
   "metadata": {},
   "source": [
    "Keep the gate at level 30.\n",
    "\n",
    "There is a small decrease in long-term retention when moving the gate to level 40, but the difference is **not statistically significant**.  \n",
    "Given the **potential risk** and **lack of clear benefit**, it’s safer to **keep the gate at level 30**."
   ]
  },
  {
   "cell_type": "markdown",
   "metadata": {},
   "source": [
    "## Comparison of 1-Day and 7-Day Retentions"
   ]
  },
  {
   "cell_type": "code",
   "execution_count": 27,
   "metadata": {},
   "outputs": [
    {
     "data": {
      "image/png": "[encoded data removed]",
      "text/plain": [
       "<Figure size 800x500 with 1 Axes>"
      ]
     },
     "metadata": {},
     "output_type": "display_data"
    }
   ],
   "source": [
    "comparison_df = pd.DataFrame(\n",
    "    {\n",
    "        \"version\": [\"gate_30\", \"gate_40\"],\n",
    "        \"retention_1\": [0.7963, 0.7969],\n",
    "        \"retention_7\": [0.1902, 0.1820],\n",
    "    }\n",
    ")\n",
    "plot_retention_comparison_barplot(comparison_df)"
   ]
  },
  {
   "cell_type": "markdown",
   "metadata": {},
   "source": [
    "- For **1-day retention** (in blue), both gate versions show **very high and nearly identical retention rates** (~79.6%). There is no meaningful difference in short-term engagement.\n",
    "\n",
    "- For **7-day retention** (in red), the `gate_30` group performs **noticeably better** than `gate_40`, with a difference of **−0.82 percentage points**. Although this is not statistically significant, it suggests a potential negative impact when the gate is moved later.\n",
    "\n",
    "This visual supports the idea that **moving the gate to level 40 does not improve engagement** and may slightly reduce long-term player retention.\n",
    "\n",
    "**Conclusion:**\n",
    "\n",
    "The gate at **level 30** performs slightly better overall.  \n",
    "Given the lack of short-term gains and the risk of long-term decline, the gate should be **kept at level 30**."
   ]
  },
  {
   "cell_type": "markdown",
   "metadata": {},
   "source": [
    "## Final Conclusion and Recommendation"
   ]
  },
  {
   "cell_type": "markdown",
   "metadata": {},
   "source": [
    "### Goal and hypotheses"
   ]
  },
  {
   "cell_type": "markdown",
   "metadata": {},
   "source": [
    "Goal was to determine if moving the gate from level 30 to level 40 improves player retention."
   ]
  },
  {
   "cell_type": "markdown",
   "metadata": {},
   "source": [
    "Null Hypothesis (H0): There is no difference in retention between gate_30 and gate_40\n",
    "\n",
    "Alternative Hypothesis (H1): There is a difference in retention between gate_30 and gate_40"
   ]
  },
  {
   "cell_type": "markdown",
   "metadata": {},
   "source": [
    "### 1-Day retention conclusion"
   ]
  },
  {
   "cell_type": "markdown",
   "metadata": {},
   "source": [
    "Gate 30: 79.63%\n",
    "\n",
    "Gate 40: 79.69%\n",
    "\n",
    "Difference: +0.06 pp\n",
    "\n",
    "Chi-square p-value: 0.9007\n",
    "\n",
    "Bootstrap CI: [−0.82%, +0.95%]\n",
    "\n",
    "Conclusion:\n",
    "No statistically significant difference. We fail to reject H0.\n",
    "Gate 40 does not improve short-term retention."
   ]
  },
  {
   "cell_type": "markdown",
   "metadata": {},
   "source": [
    "### 7-Day retention conclusion"
   ]
  },
  {
   "cell_type": "markdown",
   "metadata": {},
   "source": [
    "Gate 30: 19.02%\n",
    "\n",
    "Gate 40: 18.20%\n",
    "\n",
    "Difference: −0.82 pp\n",
    "\n",
    "Chi-square p-value: 0.0012\n",
    "\n",
    "Bootstrap CI: [−2.04%, +0.13%]\n",
    "\n",
    "Conclusion:\n",
    "Statistically significant p-value, so we reject H0.\n",
    "However, the CI includes 0, so the result isn't robust.\n",
    "Gate 40 may reduce long-term retention."
   ]
  },
  {
   "cell_type": "markdown",
   "metadata": {},
   "source": [
    "### Final recommendation"
   ]
  },
  {
   "cell_type": "markdown",
   "metadata": {},
   "source": [
    "Keep the gate at **level 30**.\n",
    "\n",
    "There is no meaningful improvement in short-term retention,  \n",
    "and there is a potential (though not statistically certain) decrease in long-term retention when moving the gate to level 40."
   ]
  }
 ],
 "metadata": {
  "kernelspec": {
   "display_name": "Python 3",
   "language": "python",
   "name": "python3"
  },
  "language_info": {
   "codemirror_mode": {
    "name": "ipython",
    "version": 3
   },
   "file_extension": ".py",
   "mimetype": "text/x-python",
   "name": "python",
   "nbconvert_exporter": "python",
   "pygments_lexer": "ipython3",
   "version": "3.13.0"
  }
 },
 "nbformat": 4,
 "nbformat_minor": 2
}
