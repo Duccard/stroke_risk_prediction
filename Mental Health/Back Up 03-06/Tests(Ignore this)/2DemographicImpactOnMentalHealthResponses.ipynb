{
 "cells": [
  {
   "cell_type": "markdown",
   "metadata": {},
   "source": [
    "# Demographic Impact on Mental Health Responses "
   ]
  },
  {
   "cell_type": "markdown",
   "metadata": {},
   "source": [
    "## INTRODUCTION"
   ]
  },
  {
   "cell_type": "markdown",
   "metadata": {},
   "source": [
    "Goal: Understand how age, gender, or location influence survey responses.\n",
    "\n",
    "Are certain age groups more likely to report anxiety or depression?\n",
    "Do responses differ significantly between men and women?\n",
    "Is there a regional or national variation in responses?"
   ]
  },
  {
   "cell_type": "markdown",
   "metadata": {},
   "source": [
    "Why?\n",
    "This can provide insights into which groups might need targeted mental health interventions."
   ]
  },
  {
   "cell_type": "markdown",
   "metadata": {},
   "source": [
    "Importing libraries :"
   ]
  },
  {
   "cell_type": "code",
   "execution_count": 1,
   "metadata": {},
   "outputs": [],
   "source": [
    "import sqlite3\n",
    "import pandas as pd\n",
    "import matplotlib.pyplot as plt\n",
    "import numpy as np\n",
    "import seaborn as sns\n",
    "from MentalHealthCustomFunctionsDictionaries import detect_outliers, question_mapping"
   ]
  },
  {
   "cell_type": "markdown",
   "metadata": {},
   "source": [
    "Defining the database :"
   ]
  },
  {
   "cell_type": "code",
   "execution_count": 2,
   "metadata": {},
   "outputs": [],
   "source": [
    "db_path = \"mental_health.sqlite\""
   ]
  },
  {
   "cell_type": "markdown",
   "metadata": {},
   "source": [
    "Connecting the SQLite database :"
   ]
  },
  {
   "cell_type": "code",
   "execution_count": 3,
   "metadata": {},
   "outputs": [],
   "source": [
    "conn = sqlite3.connect(db_path)\n",
    "cursor = conn.cursor()"
   ]
  },
  {
   "cell_type": "markdown",
   "metadata": {},
   "source": [
    "Using a context manager to automatically close the connection :"
   ]
  },
  {
   "cell_type": "code",
   "execution_count": 4,
   "metadata": {},
   "outputs": [],
   "source": [
    "with sqlite3.connect(db_path) as conn:\n",
    "    cursor = conn.cursor()"
   ]
  },
  {
   "cell_type": "markdown",
   "metadata": {},
   "source": [
    "## DATA CLEANING"
   ]
  },
  {
   "cell_type": "markdown",
   "metadata": {},
   "source": [
    "Fetching all table names :"
   ]
  },
  {
   "cell_type": "code",
   "execution_count": 5,
   "metadata": {},
   "outputs": [
    {
     "name": "stdout",
     "output_type": "stream",
     "text": [
      "Tables in database: ['Answer', 'Question', 'Survey']\n"
     ]
    }
   ],
   "source": [
    "cursor.execute(\"SELECT name FROM sqlite_master WHERE type='table';\")\n",
    "tables = cursor.fetchall()\n",
    "table_names = [table[0] for table in tables]\n",
    "print(\"Tables in database:\", table_names)"
   ]
  },
  {
   "cell_type": "markdown",
   "metadata": {},
   "source": [
    "Previewing each table's schema :"
   ]
  },
  {
   "cell_type": "code",
   "execution_count": 6,
   "metadata": {},
   "outputs": [
    {
     "name": "stdout",
     "output_type": "stream",
     "text": [
      "\n",
      "Schema of Answer:\n",
      "(0, 'AnswerText', 'VARCHAR(10000)', 0, None, 0)\n",
      "(1, 'SurveyID', 'INTEGER', 0, None, 0)\n",
      "(2, 'UserID', 'INTEGER', 0, None, 0)\n",
      "(3, 'QuestionID', 'INTEGER', 0, None, 0)\n",
      "\n",
      "Schema of Question:\n",
      "(0, 'questiontext', 'VARCHAR(1000)', 0, None, 0)\n",
      "(1, 'questionid', 'INTEGER', 0, None, 0)\n",
      "\n",
      "Schema of Survey:\n",
      "(0, 'SurveyID', 'INTEGER', 1, None, 1)\n",
      "(1, 'Description', 'VARCHAR(255)', 0, None, 0)\n"
     ]
    }
   ],
   "source": [
    "for table in table_names:\n",
    "    print(f\"\\nSchema of {table}:\")\n",
    "    cursor.execute(f\"PRAGMA table_info({table});\")\n",
    "    schema = cursor.fetchall()\n",
    "    for column in schema:\n",
    "        print(column)"
   ]
  },
  {
   "cell_type": "markdown",
   "metadata": {},
   "source": [
    "Defining tables :"
   ]
  },
  {
   "cell_type": "code",
   "execution_count": 7,
   "metadata": {},
   "outputs": [],
   "source": [
    "answer_df = pd.read_sql(\"SELECT * FROM Answer\", conn)\n",
    "question_df = pd.read_sql(\"SELECT * FROM Question\", conn)\n",
    "survey_df = pd.read_sql(\"SELECT * FROM Survey\", conn)"
   ]
  },
  {
   "cell_type": "markdown",
   "metadata": {},
   "source": [
    "Merging tables to create a full dataset :"
   ]
  },
  {
   "cell_type": "code",
   "execution_count": 8,
   "metadata": {},
   "outputs": [],
   "source": [
    "merged_df = answer_df.merge(\n",
    "    question_df, left_on=\"QuestionID\", right_on=\"questionid\", how=\"left\"\n",
    ").merge(survey_df, on=\"SurveyID\", how=\"left\")"
   ]
  },
  {
   "cell_type": "markdown",
   "metadata": {},
   "source": [
    "Standardizing and grouping similar questions across survey years :"
   ]
  },
  {
   "cell_type": "code",
   "execution_count": 9,
   "metadata": {},
   "outputs": [],
   "source": [
    "merged_df[\"questiontext\"] = merged_df[\"questiontext\"].replace(question_mapping)"
   ]
  },
  {
   "cell_type": "markdown",
   "metadata": {},
   "source": [
    "Handling missing values :"
   ]
  },
  {
   "cell_type": "code",
   "execution_count": 10,
   "metadata": {},
   "outputs": [],
   "source": [
    "merged_df[\"AnswerText\"] = merged_df[\"AnswerText\"].fillna(\"Not Provided\")"
   ]
  },
  {
   "cell_type": "markdown",
   "metadata": {},
   "source": [
    "Standardizing gender responses :"
   ]
  },
  {
   "cell_type": "code",
   "execution_count": 11,
   "metadata": {},
   "outputs": [],
   "source": [
    "gender_map = {\n",
    "    \"M\": \"Male\",\n",
    "    \"F\": \"Female\",\n",
    "    \"Male\": \"Male\",\n",
    "    \"Female\": \"Female\",\n",
    "    \"Other\": \"Other\",\n",
    "}\n",
    "merged_df.loc[merged_df[\"questiontext\"] == \"Gender\", \"AnswerText\"] = (\n",
    "    merged_df.loc[merged_df[\"questiontext\"] == \"Gender\", \"AnswerText\"]\n",
    "    .str.strip()\n",
    "    .str.title()\n",
    ")\n",
    "merged_df.loc[merged_df[\"questiontext\"] == \"Gender\", \"AnswerText\"] = merged_df.loc[\n",
    "    merged_df[\"questiontext\"] == \"Gender\", \"AnswerText\"\n",
    "].replace(gender_map)"
   ]
  },
  {
   "cell_type": "markdown",
   "metadata": {},
   "source": [
    "Converting age to numeric :"
   ]
  },
  {
   "cell_type": "code",
   "execution_count": 12,
   "metadata": {},
   "outputs": [],
   "source": [
    "merged_df.loc[merged_df[\"questiontext\"] == \"Age\", \"AnswerText\"] = pd.to_numeric(\n",
    "    merged_df.loc[merged_df[\"questiontext\"] == \"Age\", \"AnswerText\"], errors=\"coerce\"\n",
    ")"
   ]
  },
  {
   "cell_type": "markdown",
   "metadata": {},
   "source": [
    "Removing outliers in Age column using detect_outliers from MentalHealthCustomFunctions, converting 'AnswerText' to numeric :"
   ]
  },
  {
   "cell_type": "code",
   "execution_count": 13,
   "metadata": {},
   "outputs": [],
   "source": [
    "temp_age_numeric = pd.to_numeric(\n",
    "    merged_df.loc[merged_df[\"questiontext\"] == \"Age\", \"AnswerText\"], errors=\"coerce\"\n",
    ")"
   ]
  },
  {
   "cell_type": "markdown",
   "metadata": {},
   "source": [
    "Detecting and replacing outliers, ensuring negative ages and unrealistically old ages are handled :"
   ]
  },
  {
   "cell_type": "code",
   "execution_count": 14,
   "metadata": {},
   "outputs": [],
   "source": [
    "temp_age_numeric_cleaned = detect_outliers(\n",
    "    temp_age_numeric, min_valid_age=0, max_valid_age=100\n",
    ")\n",
    "merged_df.loc[merged_df[\"questiontext\"] == \"Age\", \"AnswerText\"] = (\n",
    "    temp_age_numeric_cleaned.fillna(\"Not Provided\")\n",
    ")"
   ]
  },
  {
   "cell_type": "markdown",
   "metadata": {},
   "source": [
    "Standardizing country names :\n"
   ]
  },
  {
   "cell_type": "code",
   "execution_count": 15,
   "metadata": {},
   "outputs": [],
   "source": [
    "merged_df.loc[merged_df[\"questiontext\"] == \"Country\", \"AnswerText\"] = (\n",
    "    merged_df.loc[merged_df[\"questiontext\"] == \"Country\", \"AnswerText\"]\n",
    "    .str.strip()\n",
    "    .str.title()\n",
    ")"
   ]
  },
  {
   "cell_type": "code",
   "execution_count": 16,
   "metadata": {},
   "outputs": [],
   "source": [
    "# Highlighted Changes:\n",
    "age_series = merged_df.loc[merged_df[\"questiontext\"] == \"Age\", \"AnswerText\"].dropna()\n",
    "\n",
    "# Force conversion to numeric again, and filter out non numeric values.\n",
    "age_series = pd.to_numeric(age_series, errors=\"coerce\").dropna()\n",
    "\n",
    "if not age_series.empty:\n",
    "    merged_df.loc[merged_df[\"questiontext\"] == \"Age\", \"Age Group\"] = pd.cut(\n",
    "        age_series,\n",
    "        bins=[0, 19, 29, 39, 49, 59, 100],\n",
    "        labels=[\"<20\", \"20-29\", \"30-39\", \"40-49\", \"50-59\", \"60+\"],\n",
    "        right=False,\n",
    "    )\n",
    "else:\n",
    "    merged_df.loc[merged_df[\"questiontext\"] == \"Age\", \"Age Group\"] = \"Not Provided\""
   ]
  },
  {
   "cell_type": "markdown",
   "metadata": {},
   "source": [
    "Aggregating responses to remove duplicates within the same survey and question :"
   ]
  },
  {
   "cell_type": "code",
   "execution_count": 17,
   "metadata": {},
   "outputs": [
    {
     "name": "stdout",
     "output_type": "stream",
     "text": [
      "merged_df shape before group by: (236898, 8)\n"
     ]
    }
   ],
   "source": [
    "# Add this before the group by.\n",
    "print(f\"merged_df shape before group by: {merged_df.shape}\")\n",
    "\n",
    "merged_df = (\n",
    "    merged_df.groupby([\"SurveyID\", \"questiontext\"])\n",
    "    .agg(\n",
    "        {\"AnswerText\": lambda x: x.mode()[0] if not x.mode().empty else \"Not Provided\"}\n",
    "    )\n",
    "    .reset_index()\n",
    ")"
   ]
  },
  {
   "cell_type": "code",
   "execution_count": 18,
   "metadata": {},
   "outputs": [
    {
     "name": "stdout",
     "output_type": "stream",
     "text": [
      "merged_df shape after group by: (314, 3)\n"
     ]
    }
   ],
   "source": [
    "# Add this after the group by.\n",
    "print(f\"merged_df shape after group by: {merged_df.shape}\")"
   ]
  },
  {
   "cell_type": "markdown",
   "metadata": {},
   "source": [
    "Ensuring all questions appear in all survey years :"
   ]
  },
  {
   "cell_type": "code",
   "execution_count": 19,
   "metadata": {},
   "outputs": [],
   "source": [
    "full_survey_list = merged_df[\"SurveyID\"].unique()\n",
    "full_question_list = merged_df[\"questiontext\"].unique()\n",
    "full_index = pd.MultiIndex.from_product(\n",
    "    [full_survey_list, full_question_list], names=[\"SurveyID\", \"questiontext\"]\n",
    ")\n",
    "expanded_df = (\n",
    "    merged_df.set_index([\"SurveyID\", \"questiontext\"]).reindex(full_index).reset_index()\n",
    ")"
   ]
  },
  {
   "cell_type": "markdown",
   "metadata": {},
   "source": [
    "Filling missing answers with \"Not Asked\" for surveys where the question was absent :"
   ]
  },
  {
   "cell_type": "code",
   "execution_count": 20,
   "metadata": {},
   "outputs": [],
   "source": [
    "expanded_df[\"AnswerText\"] = expanded_df[\"AnswerText\"].fillna(\"Not Asked\")"
   ]
  },
  {
   "cell_type": "markdown",
   "metadata": {},
   "source": [
    " Printing cleaned dataset :"
   ]
  },
  {
   "cell_type": "code",
   "execution_count": 21,
   "metadata": {},
   "outputs": [
    {
     "name": "stdout",
     "output_type": "stream",
     "text": [
      "   SurveyID                                      questiontext  AnswerText\n",
      "0      2014                                               Age        29.0\n",
      "1      2014  Anonymity Protection for Mental Health Treatment  Don't know\n",
      "2      2014                  Any additional notes or comments          -1\n",
      "3      2014           Awareness of Mental Health Care Options          No\n",
      "4      2014                                      Company Size        6-25\n"
     ]
    }
   ],
   "source": [
    "print(expanded_df.head())"
   ]
  },
  {
   "cell_type": "markdown",
   "metadata": {},
   "source": [
    "##  Demographic Distribution"
   ]
  },
  {
   "cell_type": "code",
   "execution_count": 22,
   "metadata": {},
   "outputs": [
    {
     "name": "stdout",
     "output_type": "stream",
     "text": [
      "Index(['SurveyID', 'questiontext', 'AnswerText'], dtype='object')\n"
     ]
    }
   ],
   "source": [
    "# Print column names to check if \"Age\" exists\n",
    "print(merged_df.columns)"
   ]
  },
  {
   "cell_type": "code",
   "execution_count": 23,
   "metadata": {},
   "outputs": [
    {
     "data": {
      "image/png": "[encoded data removed]",
      "text/plain": [
       "<Figure size 1000x500 with 1 Axes>"
      ]
     },
     "metadata": {},
     "output_type": "display_data"
    },
    {
     "data": {
      "image/png": "[encoded data removed]",
      "text/plain": [
       "<Figure size 800x500 with 1 Axes>"
      ]
     },
     "metadata": {},
     "output_type": "display_data"
    }
   ],
   "source": [
    "# Define age bins and labels\n",
    "bins = [0, 19, 29, 39, 49, 59, 100]\n",
    "labels = [\"<20\", \"20-29\", \"30-39\", \"40-49\", \"50-59\", \"60+\"]\n",
    "\n",
    "# Create \"Age Group\" column on the expanded_df\n",
    "age_series = expanded_df.loc[\n",
    "    expanded_df[\"questiontext\"] == \"Age\", \"AnswerText\"\n",
    "].dropna()\n",
    "\n",
    "age_series = pd.to_numeric(age_series, errors=\"coerce\").dropna()\n",
    "\n",
    "if not age_series.empty:\n",
    "    expanded_df.loc[expanded_df[\"questiontext\"] == \"Age\", \"Age Group\"] = pd.cut(\n",
    "        age_series,\n",
    "        bins=bins,\n",
    "        labels=labels,\n",
    "        right=False,\n",
    "    )\n",
    "else:\n",
    "    expanded_df.loc[expanded_df[\"questiontext\"] == \"Age\", \"Age Group\"] = \"Not Provided\"\n",
    "\n",
    "# Plot histogram for age groups\n",
    "plt.figure(figsize=(10, 5))\n",
    "sns.histplot(\n",
    "    expanded_df[\"Age Group\"].dropna(), bins=len(labels), kde=False, discrete=True\n",
    ")\n",
    "plt.title(\"Age Distribution of Respondents\")\n",
    "plt.xlabel(\"Age Group\")\n",
    "plt.ylabel(\"Count\")\n",
    "plt.xticks(rotation=45)\n",
    "plt.grid(axis=\"y\", linestyle=\"--\", alpha=0.7)\n",
    "plt.show()\n",
    "\n",
    "# Plot boxplot to confirm outlier handling\n",
    "plt.figure(figsize=(8, 5))\n",
    "sns.boxplot(\n",
    "    y=expanded_df.loc[expanded_df[\"questiontext\"] == \"Age\", \"AnswerText\"]\n",
    "    .dropna()\n",
    "    .astype(float)\n",
    ")\n",
    "plt.title(\"Boxplot of Age Distribution\")\n",
    "plt.ylabel(\"Age\")\n",
    "plt.grid(axis=\"y\", linestyle=\"--\", alpha=0.7)\n",
    "plt.show()"
   ]
  },
  {
   "cell_type": "code",
   "execution_count": 24,
   "metadata": {},
   "outputs": [
    {
     "name": "stdout",
     "output_type": "stream",
     "text": [
      "[29. 30. 37.]\n"
     ]
    }
   ],
   "source": [
    "print(age_series.unique())  # Add this line"
   ]
  }
 ],
 "metadata": {
  "kernelspec": {
   "display_name": "Python 3",
   "language": "python",
   "name": "python3"
  },
  "language_info": {
   "codemirror_mode": {
    "name": "ipython",
    "version": 3
   },
   "file_extension": ".py",
   "mimetype": "text/x-python",
   "name": "python",
   "nbconvert_exporter": "python",
   "pygments_lexer": "ipython3",
   "version": "3.13.0"
  }
 },
 "nbformat": 4,
 "nbformat_minor": 2
}
