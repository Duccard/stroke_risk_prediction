{
 "cells": [
  {
   "cell_type": "markdown",
   "metadata": {},
   "source": [
    "# Mental health analysis"
   ]
  },
  {
   "cell_type": "markdown",
   "metadata": {},
   "source": [
    "## Introduction"
   ]
  },
  {
   "cell_type": "markdown",
   "metadata": {},
   "source": [
    "Importing libraries :"
   ]
  },
  {
   "cell_type": "code",
   "execution_count": 715,
   "metadata": {},
   "outputs": [],
   "source": [
    "import sqlite3\n",
    "import pandas as pd\n",
    "import matplotlib.pyplot as plt\n",
    "import numpy as np\n",
    "import seaborn as sns\n",
    "from MentalHealthCustomFunctions import detect_outliers"
   ]
  },
  {
   "cell_type": "markdown",
   "metadata": {},
   "source": [
    "Defining the database :"
   ]
  },
  {
   "cell_type": "code",
   "execution_count": 716,
   "metadata": {},
   "outputs": [],
   "source": [
    "db_path = \"mental_health.sqlite\""
   ]
  },
  {
   "cell_type": "markdown",
   "metadata": {},
   "source": [
    "Connecting the SQLite database :"
   ]
  },
  {
   "cell_type": "code",
   "execution_count": 717,
   "metadata": {},
   "outputs": [],
   "source": [
    "conn = sqlite3.connect(db_path)\n",
    "cursor = conn.cursor()"
   ]
  },
  {
   "cell_type": "markdown",
   "metadata": {},
   "source": [
    "Using a context manager to automatically close the connection :"
   ]
  },
  {
   "cell_type": "code",
   "execution_count": 718,
   "metadata": {},
   "outputs": [],
   "source": [
    "with sqlite3.connect(db_path) as conn:\n",
    "    cursor = conn.cursor()"
   ]
  },
  {
   "cell_type": "markdown",
   "metadata": {},
   "source": [
    "Fetching all table names :"
   ]
  },
  {
   "cell_type": "code",
   "execution_count": 719,
   "metadata": {},
   "outputs": [
    {
     "name": "stdout",
     "output_type": "stream",
     "text": [
      "Tables in database: ['Answer', 'Question', 'Survey']\n"
     ]
    }
   ],
   "source": [
    "cursor.execute(\"SELECT name FROM sqlite_master WHERE type='table';\")\n",
    "tables = cursor.fetchall()\n",
    "table_names = [table[0] for table in tables]\n",
    "print(\"Tables in database:\", table_names)"
   ]
  },
  {
   "cell_type": "markdown",
   "metadata": {},
   "source": [
    "Preview each table's schema :\n"
   ]
  },
  {
   "cell_type": "code",
   "execution_count": 720,
   "metadata": {},
   "outputs": [
    {
     "name": "stdout",
     "output_type": "stream",
     "text": [
      "\n",
      "Schema of Answer:\n",
      "(0, 'AnswerText', 'VARCHAR(10000)', 0, None, 0)\n",
      "(1, 'SurveyID', 'INTEGER', 0, None, 0)\n",
      "(2, 'UserID', 'INTEGER', 0, None, 0)\n",
      "(3, 'QuestionID', 'INTEGER', 0, None, 0)\n",
      "\n",
      "Schema of Question:\n",
      "(0, 'questiontext', 'VARCHAR(1000)', 0, None, 0)\n",
      "(1, 'questionid', 'INTEGER', 0, None, 0)\n",
      "\n",
      "Schema of Survey:\n",
      "(0, 'SurveyID', 'INTEGER', 1, None, 1)\n",
      "(1, 'Description', 'VARCHAR(255)', 0, None, 0)\n"
     ]
    }
   ],
   "source": [
    "for table in table_names:\n",
    "    print(f\"\\nSchema of {table}:\")\n",
    "    cursor.execute(f\"PRAGMA table_info({table});\")\n",
    "    schema = cursor.fetchall()\n",
    "    for column in schema:\n",
    "        print(column)"
   ]
  },
  {
   "cell_type": "markdown",
   "metadata": {},
   "source": [
    "Loading a preview of each table :"
   ]
  },
  {
   "cell_type": "code",
   "execution_count": 721,
   "metadata": {},
   "outputs": [],
   "source": [
    "dfs = {}\n",
    "for table in table_names:\n",
    "    query = f'SELECT * FROM \"{table}\" LIMIT 5;'\n",
    "    try:\n",
    "        dfs[table] = pd.read_sql_query(query, conn)\n",
    "    except Exception as e:\n",
    "        print(f\"Error reading {table}: {e}\")"
   ]
  },
  {
   "cell_type": "code",
   "execution_count": 722,
   "metadata": {},
   "outputs": [
    {
     "name": "stdout",
     "output_type": "stream",
     "text": [
      "Answer: 5 rows, 4 columns\n",
      "Question: 5 rows, 2 columns\n",
      "Survey: 5 rows, 2 columns\n"
     ]
    }
   ],
   "source": [
    "for table_name, df in dfs.items():\n",
    "    print(f\"{table_name}: {df.shape[0]} rows, {df.shape[1]} columns\")"
   ]
  },
  {
   "cell_type": "markdown",
   "metadata": {},
   "source": [
    "# Data cleaning"
   ]
  },
  {
   "cell_type": "markdown",
   "metadata": {},
   "source": [
    "UNIQUE VALUES"
   ]
  },
  {
   "cell_type": "markdown",
   "metadata": {},
   "source": [
    " Dropping duplicate rows : (Reikia neprarasti kitos info) per daug extreme instead INPUTATION, pasvarstyti sugrupuoti grupes "
   ]
  },
  {
   "cell_type": "code",
   "execution_count": 723,
   "metadata": {},
   "outputs": [],
   "source": [
    "df.drop_duplicates(inplace=True)"
   ]
  },
  {
   "cell_type": "markdown",
   "metadata": {},
   "source": [
    "Dropping columns with all missing values :"
   ]
  },
  {
   "cell_type": "code",
   "execution_count": 724,
   "metadata": {},
   "outputs": [],
   "source": [
    "df.dropna(axis=1, how=\"all\", inplace=True)"
   ]
  },
  {
   "cell_type": "markdown",
   "metadata": {},
   "source": [
    "Filling missing values with appropriate defaults :"
   ]
  },
  {
   "cell_type": "code",
   "execution_count": 725,
   "metadata": {},
   "outputs": [
    {
     "name": "stderr",
     "output_type": "stream",
     "text": [
      "/var/folders/bn/_ppqm48n46qbnq0vyj_0d1780000gn/T/ipykernel_39355/3956943888.py:1: FutureWarning: DataFrame.fillna with 'method' is deprecated and will raise in a future version. Use obj.ffill() or obj.bfill() instead.\n",
      "  df.fillna(method='ffill', inplace=True)\n"
     ]
    }
   ],
   "source": [
    "df.fillna(method=\"ffill\", inplace=True)"
   ]
  },
  {
   "cell_type": "markdown",
   "metadata": {},
   "source": [
    "\n",
    "    \n",
    "Converting column names to lowercase for consistency :"
   ]
  },
  {
   "cell_type": "code",
   "execution_count": 726,
   "metadata": {},
   "outputs": [],
   "source": [
    "df.columns = df.columns.str.lower()"
   ]
  },
  {
   "cell_type": "markdown",
   "metadata": {},
   "source": [
    "    \n",
    "Stripping whitespace from string columns :"
   ]
  },
  {
   "cell_type": "code",
   "execution_count": 727,
   "metadata": {},
   "outputs": [],
   "source": [
    "df = df.apply(lambda x: x.str.strip() if x.dtype == \"object\" else x)"
   ]
  },
  {
   "cell_type": "markdown",
   "metadata": {},
   "source": [
    "Let's verify data cleaning steps :"
   ]
  },
  {
   "cell_type": "code",
   "execution_count": 728,
   "metadata": {},
   "outputs": [
    {
     "name": "stdout",
     "output_type": "stream",
     "text": [
      "<class 'pandas.core.frame.DataFrame'>\n",
      "RangeIndex: 5 entries, 0 to 4\n",
      "Data columns (total 2 columns):\n",
      " #   Column       Non-Null Count  Dtype \n",
      "---  ------       --------------  ----- \n",
      " 0   surveyid     5 non-null      int64 \n",
      " 1   description  5 non-null      object\n",
      "dtypes: int64(1), object(1)\n",
      "memory usage: 212.0+ bytes\n",
      "None\n"
     ]
    }
   ],
   "source": [
    "print(df.info())"
   ]
  },
  {
   "cell_type": "markdown",
   "metadata": {},
   "source": [
    "1. Duplicate removal verification : since the row count remains at 5 for each table, there were likely no duplicate rows in the original dataset. If duplicates had existed and were removed, the row count would have been lower.\n",
    "2. Missing values handling : all columns have non-null values. This suggests that the dataset originally had no missing values.\n",
    "3. Column name standardization : df.info() output correctly lists surveyid and description in lowercase.\n",
    "4. Data type consistency : surveyid remains int64, and description remains object. This means the cleaning process did not accidentally alter data types, which is good."
   ]
  },
  {
   "cell_type": "markdown",
   "metadata": {},
   "source": [
    "Displaying the first few rows of each table : (pateikti grafikais)\n"
   ]
  },
  {
   "cell_type": "code",
   "execution_count": 729,
   "metadata": {},
   "outputs": [
    {
     "name": "stdout",
     "output_type": "stream",
     "text": [
      "\n",
      "Preview of Answer:\n",
      "  AnswerText  SurveyID  UserID  QuestionID\n",
      "0         37      2014       1           1\n",
      "1         44      2014       2           1\n",
      "2         32      2014       3           1\n",
      "3         31      2014       4           1\n",
      "4         31      2014       5           1\n",
      "\n",
      "Preview of Question:\n",
      "                                        questiontext  questionid\n",
      "0                                  What is your age?           1\n",
      "1                               What is your gender?           2\n",
      "2                       What country do you live in?           3\n",
      "3  If you live in the United States, which state ...           4\n",
      "4                             Are you self-employed?           5\n",
      "\n",
      "Preview of Survey:\n",
      "   surveyid                    description\n",
      "0      2014  mental health survey for 2014\n",
      "1      2016  mental health survey for 2016\n",
      "2      2017  mental health survey for 2017\n",
      "3      2018  mental health survey for 2018\n",
      "4      2019  mental health survey for 2019\n"
     ]
    }
   ],
   "source": [
    "for table_name, df in dfs.items():\n",
    "    print(f\"\\nPreview of {table_name}:\")\n",
    "    print(df.head())"
   ]
  },
  {
   "cell_type": "markdown",
   "metadata": {},
   "source": [
    "BOX PLOT kas gali tureti outliers"
   ]
  },
  {
   "cell_type": "markdown",
   "metadata": {},
   "source": [
    "Let's check for an outliers using detect_outliers function from a separate file (using both the IQR method and the Z-score method) :"
   ]
  },
  {
   "cell_type": "code",
   "execution_count": 730,
   "metadata": {},
   "outputs": [],
   "source": [
    "outliers_detected = {}\n",
    "for table_name, df in dfs.items():\n",
    "    outliers_detected[table_name] = detect_outliers(df)"
   ]
  },
  {
   "cell_type": "code",
   "execution_count": 731,
   "metadata": {},
   "outputs": [
    {
     "name": "stdout",
     "output_type": "stream",
     "text": [
      "Outlier Summary:\n",
      "Empty DataFrame\n",
      "Columns: []\n",
      "Index: []\n"
     ]
    }
   ],
   "source": [
    "outlier_df = pd.DataFrame.from_dict(outliers_detected, orient=\"index\")\n",
    "print(\"Outlier Summary:\")\n",
    "print(outlier_df)"
   ]
  },
  {
   "cell_type": "code",
   "execution_count": 732,
   "metadata": {},
   "outputs": [
    {
     "name": "stdout",
     "output_type": "stream",
     "text": [
      "\n",
      "Preview of cleaned Answer:\n",
      "  AnswerText  SurveyID  UserID  QuestionID\n",
      "0         37      2014       1           1\n",
      "1         44      2014       2           1\n",
      "2         32      2014       3           1\n",
      "3         31      2014       4           1\n",
      "4         31      2014       5           1\n",
      "\n",
      "Preview of cleaned Question:\n",
      "                                        questiontext  questionid\n",
      "0                                  What is your age?           1\n",
      "1                               What is your gender?           2\n",
      "2                       What country do you live in?           3\n",
      "3  If you live in the United States, which state ...           4\n",
      "4                             Are you self-employed?           5\n",
      "\n",
      "Preview of cleaned Survey:\n",
      "   surveyid                    description\n",
      "0      2014  mental health survey for 2014\n",
      "1      2016  mental health survey for 2016\n",
      "2      2017  mental health survey for 2017\n",
      "3      2018  mental health survey for 2018\n",
      "4      2019  mental health survey for 2019\n"
     ]
    }
   ],
   "source": [
    "for table_name, df in dfs.items():\n",
    "    print(f\"\\nPreview of cleaned {table_name}:\")\n",
    "    print(df.head())"
   ]
  },
  {
   "cell_type": "markdown",
   "metadata": {},
   "source": [
    "No significant outliers were detected using both the IQR method and the Z-score method. This suggests that the dataset is well-distributed and does not contain extreme numerical values that could distort statistical analysis."
   ]
  },
  {
   "cell_type": "markdown",
   "metadata": {},
   "source": [
    "## Exploratory Data Analysis"
   ]
  },
  {
   "cell_type": "markdown",
   "metadata": {},
   "source": [
    "Let's start with basic statistics : vizualizacija"
   ]
  },
  {
   "cell_type": "code",
   "execution_count": 733,
   "metadata": {},
   "outputs": [
    {
     "name": "stdout",
     "output_type": "stream",
     "text": [
      "           surveyid                    description\n",
      "count      5.000000                              5\n",
      "unique          NaN                              5\n",
      "top             NaN  mental health survey for 2014\n",
      "freq            NaN                              1\n",
      "mean    2016.800000                            NaN\n",
      "std        1.923538                            NaN\n",
      "min     2014.000000                            NaN\n",
      "25%     2016.000000                            NaN\n",
      "50%     2017.000000                            NaN\n",
      "75%     2018.000000                            NaN\n",
      "max     2019.000000                            NaN\n"
     ]
    }
   ],
   "source": [
    "print(df.describe(include=\"all\"))"
   ]
  },
  {
   "cell_type": "markdown",
   "metadata": {},
   "source": [
    "Survey years ranging from 2014 to 2019, with a mean of 2016.8 and a standard deviation of 1.92. The distribution appears consistent without significant gaps between survey years. The description column contains unique labels for each survey, confirming that each entry corresponds to a distinct survey instance.\n",
    "\n",
    "Overall, this dataset segment is clean, well-structured, and evenly distributed across survey years. "
   ]
  },
  {
   "cell_type": "markdown",
   "metadata": {},
   "source": [
    "Counting distinct values in each table :"
   ]
  },
  {
   "cell_type": "code",
   "execution_count": 734,
   "metadata": {},
   "outputs": [
    {
     "name": "stdout",
     "output_type": "stream",
     "text": [
      "Total records in Answer: 236898\n",
      "Total records in Question: 105\n",
      "Total records in Survey: 5\n"
     ]
    }
   ],
   "source": [
    "for table in table_names:\n",
    "    cursor.execute(f\"SELECT COUNT(*) FROM {table};\")\n",
    "    count = cursor.fetchone()[0]\n",
    "    print(f\"Total records in {table}: {count}\")"
   ]
  },
  {
   "cell_type": "markdown",
   "metadata": {},
   "source": [
    "The dataset primarily consists of a large volume of individual answers to a relatively small set of questions across a few surveys."
   ]
  },
  {
   "cell_type": "markdown",
   "metadata": {},
   "source": [
    "Getting column statistics for numerical columns :"
   ]
  },
  {
   "cell_type": "code",
   "execution_count": null,
   "metadata": {},
   "outputs": [
    {
     "name": "stdout",
     "output_type": "stream",
     "text": [
      "Statistics for SurveyID in Answer: Min=2014, Max=2019, Avg=2016.5722969379226, Count=236898\n",
      "Statistics for UserID in Answer: Min=1, Max=4218, Avg=2514.5166189668125, Count=236898\n",
      "Statistics for QuestionID in Answer: Min=1, Max=118, Avg=48.6558983191078, Count=236898\n",
      "Statistics for questionid in Question: Min=1, Max=118, Avg=61.79047619047619, Count=105\n",
      "Statistics for SurveyID in Survey: Min=2014, Max=2019, Avg=2016.8, Count=5\n"
     ]
    }
   ],
   "source": [
    "for table in table_names:\n",
    "    cursor.execute(f\"PRAGMA table_info({table});\")\n",
    "    columns = cursor.fetchall()\n",
    "    num_columns = [col[1] for col in columns if col[2] in (\"INTEGER\", \"REAL\")]\n",
    "\n",
    "    if num_columns:\n",
    "        for col in num_columns:\n",
    "            cursor.execute(\n",
    "                f\"SELECT MIN({col}), MAX({col}), AVG({col}), COUNT({col}) FROM {table};\"\n",
    "            )\n",
    "            stats = cursor.fetchone()\n",
    "            print(\n",
    "                f\"Statistics for {col} in {table}: Min={stats[0]}, Max={stats[1]}, Avg={stats[2]}, Count={stats[3]}\"\n",
    "            )"
   ]
  },
  {
   "cell_type": "code",
   "execution_count": 736,
   "metadata": {},
   "outputs": [
    {
     "data": {
      "image/png": "[encoded data removed]",
      "text/plain": [
       "<Figure size 800x400 with 1 Axes>"
      ]
     },
     "metadata": {},
     "output_type": "display_data"
    }
   ],
   "source": [
    "num_cols = df.select_dtypes(include=[np.number]).columns\n",
    "if not num_cols.empty:\n",
    "    for col in num_cols:\n",
    "        plt.figure(figsize=(8, 4))\n",
    "        sns.histplot(df[col], kde=True, bins=15)\n",
    "        plt.title(f\"Distribution of {col} in {table_name}\")\n",
    "        plt.show()\n",
    "else:\n",
    "    print(f\"No numerical columns in {table_name}.\")"
   ]
  },
  {
   "cell_type": "markdown",
   "metadata": {},
   "source": [
    "Missing data? Some responses from 2015 may not have been recorded or are unavailable."
   ]
  },
  {
   "cell_type": "markdown",
   "metadata": {},
   "source": [
    "Show correlation (Does it correlate with years? f.e.) Show every number, choose treshold"
   ]
  },
  {
   "cell_type": "markdown",
   "metadata": {},
   "source": [
    "Checking for correlations :"
   ]
  },
  {
   "cell_type": "code",
   "execution_count": 737,
   "metadata": {},
   "outputs": [
    {
     "name": "stdout",
     "output_type": "stream",
     "text": [
      "No meaningful correlations for Survey.\n"
     ]
    }
   ],
   "source": [
    "df_corr = df[num_cols].loc[:, df[num_cols].nunique() > 1]\n",
    "if df_corr.shape[1] > 1:\n",
    "    plt.figure(figsize=(8, 6))\n",
    "    sns.heatmap(df_corr.corr(), annot=True, cmap=\"coolwarm\", fmt=\".2f\")\n",
    "    plt.title(f\"Correlation Matrix for {table_name}\")\n",
    "    plt.show()\n",
    "else:\n",
    "    print(f\"No meaningful correlations for {table_name}.\")"
   ]
  },
  {
   "cell_type": "markdown",
   "metadata": {},
   "source": [
    "Counting distinct values in each table :"
   ]
  },
  {
   "cell_type": "code",
   "execution_count": 738,
   "metadata": {},
   "outputs": [
    {
     "name": "stdout",
     "output_type": "stream",
     "text": [
      "Total records in Answer: 236898\n",
      "Total records in Question: 105\n",
      "Total records in Survey: 5\n"
     ]
    }
   ],
   "source": [
    "for table in table_names:\n",
    "    cursor.execute(f\"SELECT COUNT(*) FROM {table};\")\n",
    "    count = cursor.fetchone()[0]\n",
    "    print(f\"Total records in {table}: {count}\")"
   ]
  },
  {
   "cell_type": "code",
   "execution_count": 739,
   "metadata": {},
   "outputs": [
    {
     "name": "stdout",
     "output_type": "stream",
     "text": [
      "Total unique questions: 105\n"
     ]
    }
   ],
   "source": [
    "cursor.execute(\"SELECT COUNT(DISTINCT questionid) FROM Question;\")\n",
    "unique_questions = cursor.fetchone()[0]\n",
    "print(f\"Total unique questions: {unique_questions}\")"
   ]
  },
  {
   "cell_type": "markdown",
   "metadata": {},
   "source": [
    "Is the questions asked in the same way each year? Maybe they are not asked each year? Maybe answers are rephrased?"
   ]
  },
  {
   "cell_type": "code",
   "execution_count": 740,
   "metadata": {},
   "outputs": [
    {
     "name": "stdout",
     "output_type": "stream",
     "text": [
      "\n",
      "Top 10 Most Answered Questions (with Text):\n",
      "Question: Would you bring up a mental health issue with a potential employer in an interview?, Question ID: 12, Answer Count: 4218\n",
      "Question: Is your anonymity protected if you choose to take advantage of mental health or substance abuse treatment resources provided by your employer?, Question ID: 11, Answer Count: 4218\n",
      "Question: Does your employer provide mental health benefits as part of healthcare coverage?, Question ID: 10, Answer Count: 4218\n",
      "Question: Is your employer primarily a tech company/organization?, Question ID: 9, Answer Count: 4218\n",
      "Question: How many employees does your company or organization have?, Question ID: 8, Answer Count: 4218\n",
      "Question: Have you ever sought treatment for a mental health disorder from a mental health professional?, Question ID: 7, Answer Count: 4218\n",
      "Question: Do you have a family history of mental illness?, Question ID: 6, Answer Count: 4218\n",
      "Question: Are you self-employed?, Question ID: 5, Answer Count: 4218\n",
      "Question: If you live in the United States, which state or territory do you live in?, Question ID: 4, Answer Count: 4218\n",
      "Question: What country do you live in?, Question ID: 3, Answer Count: 4218\n"
     ]
    }
   ],
   "source": [
    "cursor.execute(\n",
    "    \"\"\"\n",
    "    SELECT q.questiontext, a.questionid, COUNT(*) as answer_count \n",
    "    FROM Answer a\n",
    "    JOIN Question q ON a.questionid = q.questionid\n",
    "    GROUP BY a.questionid \n",
    "    ORDER BY answer_count DESC \n",
    "    LIMIT 10;\n",
    "\"\"\"\n",
    ")\n",
    "most_answered_questions = cursor.fetchall()\n",
    "\n",
    "print(\"\\nTop 10 Most Answered Questions (with Text):\")\n",
    "for question in most_answered_questions:\n",
    "    print(\n",
    "        f\"Question: {question[0]}, Question ID: {question[1]}, Answer Count: {question[2]}\"\n",
    "    )"
   ]
  },
  {
   "cell_type": "code",
   "execution_count": 741,
   "metadata": {},
   "outputs": [
    {
     "name": "stdout",
     "output_type": "stream",
     "text": [
      "\n",
      "Top 10 Least Answered Questions:\n",
      "Question: If you have a mental health condition, do you feel that it interferes with your work?, Question ID: 92, Answer Count: 1260\n",
      "Question: Do you work remotely (outside of an office) at least 50% of the time?, Question ID: 93, Answer Count: 1260\n",
      "Question: Do you know the options for mental health care your employer provides?, Question ID: 94, Answer Count: 1260\n",
      "Question: Has your employer ever discussed mental health as part of an employee wellness program?, Question ID: 95, Answer Count: 1260\n",
      "Question: Does your employer provide resources to learn more about mental health issues and how to seek help?, Question ID: 96, Answer Count: 1260\n",
      "Question: How easy is it for you to take medical leave for a mental health condition?, Question ID: 97, Answer Count: 1260\n",
      "Question: Do you think that discussing a mental health issue with your employer would have negative consequences?, Question ID: 98, Answer Count: 1260\n",
      "Question: Would you be willing to discuss a mental health issue with your coworkers?, Question ID: 99, Answer Count: 1260\n",
      "Question: Would you be willing to discuss a mental health issue with your direct supervisor(s)?, Question ID: 100, Answer Count: 1260\n",
      "Question: Would you bring up a physical health issue with a potential employer in an interview?, Question ID: 101, Answer Count: 1260\n",
      "Question: Have you heard of or observed negative consequences for coworkers with mental health conditions in your workplace?, Question ID: 102, Answer Count: 1260\n",
      "Question: Any additional notes or comments, Question ID: 103, Answer Count: 1260\n",
      "Question: Do you think that discussing a mental health disorder with your employer would have negative consequences?, Question ID: 104, Answer Count: 1433\n",
      "Question: Have you heard of or observed negative consequences for co-workers who have been open about mental health issues in your workplace?, Question ID: 105, Answer Count: 1433\n",
      "Question: If you have revealed a mental health issue to a client or business contact, do you believe this has impacted you negatively?, Question ID: 106, Answer Count: 1433\n",
      "Question: If you have revealed a mental health issue to a coworker or employee, do you believe this has impacted you negatively?, Question ID: 107, Answer Count: 1433\n",
      "Question: Do you think that discussing a mental health disorder with previous employers would have negative consequences?, Question ID: 108, Answer Count: 1433\n",
      "Question: Do you think that discussing a physical health issue with previous employers would have negative consequences?, Question ID: 109, Answer Count: 1433\n",
      "Question: Would you have been willing to discuss a mental health issue with your previous co-workers?, Question ID: 110, Answer Count: 1433\n",
      "Question: Did you feel that your previous employers took mental health as seriously as physical health?, Question ID: 111, Answer Count: 1433\n"
     ]
    }
   ],
   "source": [
    "cursor.execute(\n",
    "    \"\"\"\n",
    "    SELECT q.questiontext, a.questionid, COUNT(*) as answer_count \n",
    "    FROM Answer a\n",
    "    JOIN Question q ON a.questionid = q.questionid\n",
    "    GROUP BY a.questionid \n",
    "    ORDER BY answer_count ASC \n",
    "    LIMIT 20;\n",
    "\"\"\"\n",
    ")\n",
    "least_answered_questions = cursor.fetchall()\n",
    "\n",
    "print(\"\\nTop 10 Least Answered Questions:\")\n",
    "for question in least_answered_questions:\n",
    "    print(\n",
    "        f\"Question: {question[0]}, Question ID: {question[1]}, Answer Count: {question[2]}\"\n",
    "    )"
   ]
  },
  {
   "cell_type": "code",
   "execution_count": 742,
   "metadata": {},
   "outputs": [
    {
     "name": "stdout",
     "output_type": "stream",
     "text": [
      "\n",
      "Top 10 Most Common Answers (with Questions):\n",
      "Question: Are you self-employed?, Answer: 0, Frequency: 3550\n",
      "Question: Would you bring up a mental health issue with a potential employer in an interview?, Answer: No, Frequency: 2951\n",
      "Question: Is your employer primarily a tech company/organization?, Answer: 1, Frequency: 2888\n",
      "Question: What is your gender?, Answer: Male, Frequency: 2830\n",
      "Question: If yes, what percentage of your work time (time performing primary or secondary job functions) is affected by a mental health issue?, Answer: -1, Frequency: 2591\n",
      "Question: Do you have previous employers?, Answer: 1, Frequency: 2590\n",
      "Question: Do you believe your productivity is ever affected by a mental health issue?, Answer: -1, Frequency: 2454\n",
      "Question: Do you have medical coverage (private insurance or state-provided) that includes treatment of mental health disorders?, Answer: -1, Frequency: 2454\n",
      "Question: Do you know local or online resources to seek help for a mental health issue?, Answer: -1, Frequency: 2454\n",
      "Question: If you have been diagnosed or treated for a mental health disorder, do you ever reveal this to clients or business contacts?, Answer: -1, Frequency: 2454\n",
      "Question: If you have been diagnosed or treated for a mental health disorder, do you ever reveal this to coworkers or employees?, Answer: -1, Frequency: 2454\n",
      "Question: Have you ever sought treatment for a mental health disorder from a mental health professional?, Answer: 1, Frequency: 2412\n",
      "Question: What country do you work in?, Answer: United States of America, Frequency: 1872\n",
      "Question: Do you have a family history of mental illness?, Answer: Yes, Frequency: 1868\n",
      "Question: What country do you live in?, Answer: United States of America, Frequency: 1853\n",
      "Question: Have you ever sought treatment for a mental health disorder from a mental health professional?, Answer: 0, Frequency: 1806\n",
      "Question: Did your previous employers ever formally discuss mental health (as part of a wellness campaign or other official communication)?, Answer: None did, Frequency: 1794\n",
      "Question: Do you think that discussing a physical health issue with your employer would have negative consequences?, Answer: No, Frequency: 1763\n",
      "Question: Was your anonymity protected if you chose to take advantage of mental health or substance abuse treatment resources with previous employers?, Answer: I don't know, Frequency: 1745\n",
      "Question: Does your employer provide mental health benefits as part of healthcare coverage?, Answer: Yes, Frequency: 1744\n"
     ]
    }
   ],
   "source": [
    "cursor.execute(\n",
    "    \"\"\"\n",
    "    SELECT a.AnswerText, COUNT(*) as freq, q.questiontext \n",
    "    FROM Answer a\n",
    "    JOIN Question q ON a.QuestionID = q.QuestionID \n",
    "    GROUP BY a.AnswerText, q.questiontext \n",
    "    ORDER BY freq DESC \n",
    "    LIMIT 20;\n",
    "\"\"\"\n",
    ")\n",
    "most_common_answers = cursor.fetchall()\n",
    "\n",
    "print(\"\\nTop 10 Most Common Answers (with Questions):\")\n",
    "for answer in most_common_answers:\n",
    "    print(f\"Question: {answer[2]}, Answer: {answer[0]}, Frequency: {answer[1]}\")"
   ]
  },
  {
   "cell_type": "markdown",
   "metadata": {},
   "source": [
    "Top 10 Least Answered Questions:"
   ]
  },
  {
   "cell_type": "code",
   "execution_count": 743,
   "metadata": {},
   "outputs": [
    {
     "name": "stdout",
     "output_type": "stream",
     "text": [
      "\n",
      "Top 10 Least Answered Questions (with Questions):\n",
      "Question: If you have a mental health condition, do you feel that it interferes with your work?, Question ID: 92, Answer Count: 1260\n",
      "Question: Do you work remotely (outside of an office) at least 50% of the time?, Question ID: 93, Answer Count: 1260\n",
      "Question: Do you know the options for mental health care your employer provides?, Question ID: 94, Answer Count: 1260\n",
      "Question: Has your employer ever discussed mental health as part of an employee wellness program?, Question ID: 95, Answer Count: 1260\n",
      "Question: Does your employer provide resources to learn more about mental health issues and how to seek help?, Question ID: 96, Answer Count: 1260\n",
      "Question: How easy is it for you to take medical leave for a mental health condition?, Question ID: 97, Answer Count: 1260\n",
      "Question: Do you think that discussing a mental health issue with your employer would have negative consequences?, Question ID: 98, Answer Count: 1260\n",
      "Question: Would you be willing to discuss a mental health issue with your coworkers?, Question ID: 99, Answer Count: 1260\n",
      "Question: Would you be willing to discuss a mental health issue with your direct supervisor(s)?, Question ID: 100, Answer Count: 1260\n",
      "Question: Would you bring up a physical health issue with a potential employer in an interview?, Question ID: 101, Answer Count: 1260\n",
      "Question: Have you heard of or observed negative consequences for coworkers with mental health conditions in your workplace?, Question ID: 102, Answer Count: 1260\n",
      "Question: Any additional notes or comments, Question ID: 103, Answer Count: 1260\n",
      "Question: Do you think that discussing a mental health disorder with your employer would have negative consequences?, Question ID: 104, Answer Count: 1433\n",
      "Question: Have you heard of or observed negative consequences for co-workers who have been open about mental health issues in your workplace?, Question ID: 105, Answer Count: 1433\n",
      "Question: If you have revealed a mental health issue to a client or business contact, do you believe this has impacted you negatively?, Question ID: 106, Answer Count: 1433\n",
      "Question: If you have revealed a mental health issue to a coworker or employee, do you believe this has impacted you negatively?, Question ID: 107, Answer Count: 1433\n",
      "Question: Do you think that discussing a mental health disorder with previous employers would have negative consequences?, Question ID: 108, Answer Count: 1433\n",
      "Question: Do you think that discussing a physical health issue with previous employers would have negative consequences?, Question ID: 109, Answer Count: 1433\n",
      "Question: Would you have been willing to discuss a mental health issue with your previous co-workers?, Question ID: 110, Answer Count: 1433\n",
      "Question: Did you feel that your previous employers took mental health as seriously as physical health?, Question ID: 111, Answer Count: 1433\n"
     ]
    }
   ],
   "source": [
    "cursor.execute(\n",
    "    \"\"\"\n",
    "    SELECT q.questiontext, a.questionid, COUNT(*) as answer_count \n",
    "    FROM Answer a\n",
    "    JOIN Question q ON a.questionid = q.questionid\n",
    "    GROUP BY a.questionid \n",
    "    ORDER BY answer_count ASC \n",
    "    LIMIT 20;\n",
    "\"\"\"\n",
    ")\n",
    "least_answered_questions = cursor.fetchall()\n",
    "\n",
    "print(\"\\nTop 10 Least Answered Questions (with Questions):\")\n",
    "for question in least_answered_questions:\n",
    "    print(\n",
    "        f\"Question: {question[0]}, Question ID: {question[1]}, Answer Count: {question[2]}\"\n",
    "    )"
   ]
  },
  {
   "cell_type": "markdown",
   "metadata": {},
   "source": [
    "## Visualising survey answers"
   ]
  },
  {
   "cell_type": "markdown",
   "metadata": {},
   "source": [
    "## Prevalence Rate of Mental Diseases"
   ]
  }
 ],
 "metadata": {
  "kernelspec": {
   "display_name": "Python 3",
   "language": "python",
   "name": "python3"
  },
  "language_info": {
   "codemirror_mode": {
    "name": "ipython",
    "version": 3
   },
   "file_extension": ".py",
   "mimetype": "text/x-python",
   "name": "python",
   "nbconvert_exporter": "python",
   "pygments_lexer": "ipython3",
   "version": "3.13.0"
  }
 },
 "nbformat": 4,
 "nbformat_minor": 2
}
