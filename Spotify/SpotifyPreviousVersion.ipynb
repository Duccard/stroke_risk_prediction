{
 "cells": [
  {
   "cell_type": "markdown",
   "id": "99592a90-8a53-4e04-981f-1bb4385e5a72",
   "metadata": {},
   "source": [
    "# Perfect ingredients for a global hit\n",
    "## Spotify 2020 top tracks analysis\n"
   ]
  },
  {
   "cell_type": "markdown",
   "id": "11c3ef16",
   "metadata": {},
   "source": [
    "What sets a regular song apart from a track that everyone knows and loves? What makes certain songs unforgettable, while others, despite their quality, fade into obscurity? \n",
    "\n",
    "In this analysis, we delve into these intriguing questions, exploring the elements that define a hit song. Using Spotify's 2020 Top Tracks dataset, I will uncover the patterns and characteristics that propel a song to global popularity.\n",
    "\n",
    "The analysis is structured into three parts:\n",
    "\n",
    "1. Data Cleaning: Preparing the dataset for a smooth analysis.\n",
    "2. Exploratory Analysis: Examining key features of the songs and genres.\n",
    "3. Conclusion: Summarizing findings and answering the ultimate question—what makes a hit song?\n",
    "\n",
    "Throughout this journey, I will compare multiple musical features, rank tracks and albums by relevance, and explore trends that differentiate hits from misses. Join me as I uncover the secrets behind the music that dominates the charts and resonates with listeners worldwide!"
   ]
  },
  {
   "cell_type": "markdown",
   "id": "a4631556",
   "metadata": {},
   "source": [
    "Let's start with importing libraries, defining spotify data variable and connecting it to the spotify top tracks csv file :"
   ]
  },
  {
   "cell_type": "code",
   "execution_count": 468,
   "id": "5bbf276c-99ee-416f-9fff-daf4dd2aa291",
   "metadata": {},
   "outputs": [],
   "source": [
    "import pandas as pd\n",
    "import numpy as np\n",
    "import matplotlib.pyplot as plt\n",
    "import seaborn as sns"
   ]
  },
  {
   "cell_type": "code",
   "execution_count": 393,
   "id": "a3adcd2a",
   "metadata": {},
   "outputs": [],
   "source": [
    "df = pd.read_csv(\"spotifytoptracks.csv\")"
   ]
  },
  {
   "cell_type": "markdown",
   "id": "32d381bb",
   "metadata": {},
   "source": [
    "## Data cleaning\n",
    "Data cleaning is an essential step in any data analysis process. It ensures that the dataset is accurate, consistent, and ready for meaningful insights. I plan to verify that the data has been imported correctly, check for missing values, identify and remove duplicates, eliminate unnecessary information, and address any outliers. These steps will ensure the dataset is well-prepared and clean for analysis."
   ]
  },
  {
   "cell_type": "markdown",
   "id": "d24b1de2",
   "metadata": {},
   "source": [
    "Checking if data is imported correctly : "
   ]
  },
  {
   "cell_type": "code",
   "execution_count": 394,
   "id": "b823dbb0",
   "metadata": {},
   "outputs": [
    {
     "data": {
      "text/html": [
       "<div>\n",
       "<style scoped>\n",
       "    .dataframe tbody tr th:only-of-type {\n",
       "        vertical-align: middle;\n",
       "    }\n",
       "\n",
       "    .dataframe tbody tr th {\n",
       "        vertical-align: top;\n",
       "    }\n",
       "\n",
       "    .dataframe thead th {\n",
       "        text-align: right;\n",
       "    }\n",
       "</style>\n",
       "<table border=\"1\" class=\"dataframe\">\n",
       "  <thead>\n",
       "    <tr style=\"text-align: right;\">\n",
       "      <th></th>\n",
       "      <th>Unnamed: 0</th>\n",
       "      <th>artist</th>\n",
       "      <th>album</th>\n",
       "      <th>track_name</th>\n",
       "      <th>track_id</th>\n",
       "      <th>energy</th>\n",
       "      <th>danceability</th>\n",
       "      <th>key</th>\n",
       "      <th>loudness</th>\n",
       "      <th>acousticness</th>\n",
       "      <th>speechiness</th>\n",
       "      <th>instrumentalness</th>\n",
       "      <th>liveness</th>\n",
       "      <th>valence</th>\n",
       "      <th>tempo</th>\n",
       "      <th>duration_ms</th>\n",
       "      <th>genre</th>\n",
       "    </tr>\n",
       "  </thead>\n",
       "  <tbody>\n",
       "    <tr>\n",
       "      <th>0</th>\n",
       "      <td>0</td>\n",
       "      <td>The Weeknd</td>\n",
       "      <td>After Hours</td>\n",
       "      <td>Blinding Lights</td>\n",
       "      <td>0VjIjW4GlUZAMYd2vXMi3b</td>\n",
       "      <td>0.730</td>\n",
       "      <td>0.514</td>\n",
       "      <td>1</td>\n",
       "      <td>-5.934</td>\n",
       "      <td>0.00146</td>\n",
       "      <td>0.0598</td>\n",
       "      <td>0.000095</td>\n",
       "      <td>0.0897</td>\n",
       "      <td>0.334</td>\n",
       "      <td>171.005</td>\n",
       "      <td>200040</td>\n",
       "      <td>R&amp;B/Soul</td>\n",
       "    </tr>\n",
       "    <tr>\n",
       "      <th>1</th>\n",
       "      <td>1</td>\n",
       "      <td>Tones And I</td>\n",
       "      <td>Dance Monkey</td>\n",
       "      <td>Dance Monkey</td>\n",
       "      <td>1rgnBhdG2JDFTbYkYRZAku</td>\n",
       "      <td>0.593</td>\n",
       "      <td>0.825</td>\n",
       "      <td>6</td>\n",
       "      <td>-6.401</td>\n",
       "      <td>0.68800</td>\n",
       "      <td>0.0988</td>\n",
       "      <td>0.000161</td>\n",
       "      <td>0.1700</td>\n",
       "      <td>0.540</td>\n",
       "      <td>98.078</td>\n",
       "      <td>209755</td>\n",
       "      <td>Alternative/Indie</td>\n",
       "    </tr>\n",
       "    <tr>\n",
       "      <th>2</th>\n",
       "      <td>2</td>\n",
       "      <td>Roddy Ricch</td>\n",
       "      <td>Please Excuse Me For Being Antisocial</td>\n",
       "      <td>The Box</td>\n",
       "      <td>0nbXyq5TXYPCO7pr3N8S4I</td>\n",
       "      <td>0.586</td>\n",
       "      <td>0.896</td>\n",
       "      <td>10</td>\n",
       "      <td>-6.687</td>\n",
       "      <td>0.10400</td>\n",
       "      <td>0.0559</td>\n",
       "      <td>0.000000</td>\n",
       "      <td>0.7900</td>\n",
       "      <td>0.642</td>\n",
       "      <td>116.971</td>\n",
       "      <td>196653</td>\n",
       "      <td>Hip-Hop/Rap</td>\n",
       "    </tr>\n",
       "    <tr>\n",
       "      <th>3</th>\n",
       "      <td>3</td>\n",
       "      <td>SAINt JHN</td>\n",
       "      <td>Roses (Imanbek Remix)</td>\n",
       "      <td>Roses - Imanbek Remix</td>\n",
       "      <td>2Wo6QQD1KMDWeFkkjLqwx5</td>\n",
       "      <td>0.721</td>\n",
       "      <td>0.785</td>\n",
       "      <td>8</td>\n",
       "      <td>-5.457</td>\n",
       "      <td>0.01490</td>\n",
       "      <td>0.0506</td>\n",
       "      <td>0.004320</td>\n",
       "      <td>0.2850</td>\n",
       "      <td>0.894</td>\n",
       "      <td>121.962</td>\n",
       "      <td>176219</td>\n",
       "      <td>Dance/Electronic</td>\n",
       "    </tr>\n",
       "    <tr>\n",
       "      <th>4</th>\n",
       "      <td>4</td>\n",
       "      <td>Dua Lipa</td>\n",
       "      <td>Future Nostalgia</td>\n",
       "      <td>Don't Start Now</td>\n",
       "      <td>3PfIrDoz19wz7qK7tYeu62</td>\n",
       "      <td>0.793</td>\n",
       "      <td>0.793</td>\n",
       "      <td>11</td>\n",
       "      <td>-4.521</td>\n",
       "      <td>0.01230</td>\n",
       "      <td>0.0830</td>\n",
       "      <td>0.000000</td>\n",
       "      <td>0.0951</td>\n",
       "      <td>0.679</td>\n",
       "      <td>123.950</td>\n",
       "      <td>183290</td>\n",
       "      <td>Nu-disco</td>\n",
       "    </tr>\n",
       "  </tbody>\n",
       "</table>\n",
       "</div>"
      ],
      "text/plain": [
       "   Unnamed: 0       artist                                  album  \\\n",
       "0           0   The Weeknd                            After Hours   \n",
       "1           1  Tones And I                           Dance Monkey   \n",
       "2           2  Roddy Ricch  Please Excuse Me For Being Antisocial   \n",
       "3           3    SAINt JHN                  Roses (Imanbek Remix)   \n",
       "4           4     Dua Lipa                       Future Nostalgia   \n",
       "\n",
       "              track_name                track_id  energy  danceability  key  \\\n",
       "0        Blinding Lights  0VjIjW4GlUZAMYd2vXMi3b   0.730         0.514    1   \n",
       "1           Dance Monkey  1rgnBhdG2JDFTbYkYRZAku   0.593         0.825    6   \n",
       "2                The Box  0nbXyq5TXYPCO7pr3N8S4I   0.586         0.896   10   \n",
       "3  Roses - Imanbek Remix  2Wo6QQD1KMDWeFkkjLqwx5   0.721         0.785    8   \n",
       "4        Don't Start Now  3PfIrDoz19wz7qK7tYeu62   0.793         0.793   11   \n",
       "\n",
       "   loudness  acousticness  speechiness  instrumentalness  liveness  valence  \\\n",
       "0    -5.934       0.00146       0.0598          0.000095    0.0897    0.334   \n",
       "1    -6.401       0.68800       0.0988          0.000161    0.1700    0.540   \n",
       "2    -6.687       0.10400       0.0559          0.000000    0.7900    0.642   \n",
       "3    -5.457       0.01490       0.0506          0.004320    0.2850    0.894   \n",
       "4    -4.521       0.01230       0.0830          0.000000    0.0951    0.679   \n",
       "\n",
       "     tempo  duration_ms              genre  \n",
       "0  171.005       200040           R&B/Soul  \n",
       "1   98.078       209755  Alternative/Indie  \n",
       "2  116.971       196653        Hip-Hop/Rap  \n",
       "3  121.962       176219   Dance/Electronic  \n",
       "4  123.950       183290           Nu-disco  "
      ]
     },
     "execution_count": 394,
     "metadata": {},
     "output_type": "execute_result"
    }
   ],
   "source": [
    "df.head()"
   ]
  },
  {
   "cell_type": "markdown",
   "id": "49abf1c9",
   "metadata": {},
   "source": [
    "Dropping unnecessary collumn, since it doesn't provide us with much info : "
   ]
  },
  {
   "cell_type": "code",
   "execution_count": 395,
   "id": "44367646",
   "metadata": {},
   "outputs": [],
   "source": [
    "df = df.drop(columns=[\"Unnamed: 0\"])"
   ]
  },
  {
   "cell_type": "markdown",
   "id": "7a93d30e",
   "metadata": {},
   "source": [
    "Checking for the empty values (there were none) :"
   ]
  },
  {
   "cell_type": "code",
   "execution_count": 487,
   "id": "d0e5d354",
   "metadata": {},
   "outputs": [
    {
     "name": "stdout",
     "output_type": "stream",
     "text": [
      "No missing values found.\n"
     ]
    }
   ],
   "source": [
    "# Check for missing values\n",
    "missing_values = df.isnull().sum()\n",
    "\n",
    "# Filter for columns with missing values\n",
    "columns_with_missing = missing_values[missing_values > 0]\n",
    "\n",
    "if not columns_with_missing.empty:\n",
    "    print(\"Missing values found:\")\n",
    "    print(columns_with_missing)\n",
    "else:\n",
    "    print(\"No missing values found.\")\n"
   ]
  },
  {
   "cell_type": "markdown",
   "id": "528ce93a",
   "metadata": {},
   "source": [
    "Let's check if there's any duplicate values :"
   ]
  },
  {
   "cell_type": "code",
   "execution_count": 486,
   "id": "6d7f8d63",
   "metadata": {},
   "outputs": [
    {
     "name": "stdout",
     "output_type": "stream",
     "text": [
      "No duplicate rows found.\n"
     ]
    }
   ],
   "source": [
    "# Check for duplicate rows\n",
    "num_duplicates = df.duplicated().sum()\n",
    "\n",
    "if num_duplicates > 0:\n",
    "    print(f\"Number of duplicate rows: {num_duplicates}\")\n",
    "    print(\"Duplicate rows:\")\n",
    "    print(df[df.duplicated()])\n",
    "else:\n",
    "    print(\"No duplicate rows found.\")\n"
   ]
  },
  {
   "cell_type": "markdown",
   "id": "efedaf91",
   "metadata": {},
   "source": [
    "Treating the outliers: This step serves as a formal verification to ensure there are no errors or anomalies in the data. Given that the Spotify Top 50 dataset is already highly curated and \"polished,\" no extreme cases or irregularities were identified."
   ]
  },
  {
   "cell_type": "markdown",
   "id": "fd37e66d",
   "metadata": {},
   "source": [
    "Typical song durations range from 1 minute (~60,000 ms) to 10 minutes (~600,000 ms). Durations outside this range may be errors. Treatment: cap values within a realistic range.\n"
   ]
  },
  {
   "cell_type": "code",
   "execution_count": 398,
   "id": "240e4d12",
   "metadata": {},
   "outputs": [],
   "source": [
    "df[\"duration_ms\"] = df[\"duration_ms\"].clip(lower=60000, upper=600000)"
   ]
  },
  {
   "cell_type": "markdown",
   "id": "f9f6c426",
   "metadata": {},
   "source": [
    "Tempo : unusually low or high values (e.g., below 40 BPM or above 300 BPM) could be errors.\n",
    "Treatment: use the IQR method or set thresholds for a reasonable tempo range.\n"
   ]
  },
  {
   "cell_type": "code",
   "execution_count": 399,
   "id": "cff1844d",
   "metadata": {},
   "outputs": [],
   "source": [
    "df[\"tempo\"] = df[\"tempo\"].clip(lower=40, upper=300)"
   ]
  },
  {
   "cell_type": "markdown",
   "id": "2f89669e",
   "metadata": {},
   "source": [
    "Acousticness, speechiness, instrumentalness, liveness, valence range must be 0 to 1. Treatment: cap values within the range."
   ]
  },
  {
   "cell_type": "code",
   "execution_count": 400,
   "id": "3db87609",
   "metadata": {},
   "outputs": [],
   "source": [
    "for col in [\"acousticness\", \"speechiness\", \"instrumentalness\", \"liveness\", \"valence\"]:\n",
    "    df[col] = df[col].clip(lower=0, upper=1)"
   ]
  },
  {
   "cell_type": "markdown",
   "id": "a86c9ede",
   "metadata": {},
   "source": [
    "Loudness below -60 dB or above 0 dB) might indicate data errors.\n",
    "Treatment: use the IQR method or set reasonable thresholds."
   ]
  },
  {
   "cell_type": "code",
   "execution_count": 401,
   "id": "9df192eb",
   "metadata": {},
   "outputs": [],
   "source": [
    "Q1 = df[\"loudness\"].quantile(0.25)\n",
    "Q3 = df[\"loudness\"].quantile(0.75)\n",
    "IQR = Q3 - Q1\n",
    "lower_bound = max(Q1 - 1.5 * IQR, -60)\n",
    "upper_bound = min(Q3 + 1.5 * IQR, 0)\n",
    "\n",
    "df[\"loudness\"] = df[\"loudness\"].clip(lower=lower_bound, upper=upper_bound)"
   ]
  },
  {
   "cell_type": "markdown",
   "id": "40d4e4f0",
   "metadata": {},
   "source": [
    "Key (Integer: 0 to 11) (represents musical key (C=0, C#/Db=1, ..., B=11).\n",
    "Values outside this range are invalid. Treatment: drop rows or correct invalid entries if present."
   ]
  },
  {
   "cell_type": "code",
   "execution_count": 422,
   "id": "06d34071",
   "metadata": {},
   "outputs": [],
   "source": [
    "df = df[(df[\"key\"] >= 0) & (df[\"key\"] <= 11)]"
   ]
  },
  {
   "cell_type": "markdown",
   "id": "bbf053f2",
   "metadata": {},
   "source": [
    "## Exploratory data analysis\n",
    "In this section I will compare multiple data features and tendencies in the Spotify top songs list. I will rank and compare artists, albums, genres with each other to find out the most popular among them. Lastly, I will compare what features had positive correlation, negative one and or had none at all."
   ]
  },
  {
   "cell_type": "markdown",
   "id": "adf0ce7c",
   "metadata": {},
   "source": [
    "How many observations and features this dataset has? "
   ]
  },
  {
   "cell_type": "code",
   "execution_count": 403,
   "id": "e5e8c991",
   "metadata": {},
   "outputs": [
    {
     "name": "stdout",
     "output_type": "stream",
     "text": [
      "Number of observations (rows): 50\n",
      "Number of features (columns): 16\n"
     ]
    }
   ],
   "source": [
    "num_observations, num_features = df.shape\n",
    "\n",
    "print(f\"Number of observations (rows): {num_observations}\")\n",
    "print(f\"Number of features (columns): {num_features}\")"
   ]
  },
  {
   "cell_type": "markdown",
   "id": "da9f421b",
   "metadata": {},
   "source": [
    "Which of the features are categorical and which numeric?"
   ]
  },
  {
   "cell_type": "code",
   "execution_count": 404,
   "id": "32eacb5f",
   "metadata": {},
   "outputs": [
    {
     "name": "stdout",
     "output_type": "stream",
     "text": [
      "Categorical Features: ['artist', 'album', 'track_name', 'track_id', 'genre']\n",
      "Numeric Features: ['energy', 'danceability', 'key', 'loudness', 'acousticness', 'speechiness', 'instrumentalness', 'liveness', 'valence', 'tempo', 'duration_ms']\n"
     ]
    }
   ],
   "source": [
    "categorical_features = df.select_dtypes(include=[\"object\"]).columns\n",
    "numeric_features = df.select_dtypes(include=[\"number\"]).columns\n",
    "print(\"Categorical Features:\", categorical_features.tolist())\n",
    "print(\"Numeric Features:\", numeric_features.tolist())"
   ]
  },
  {
   "cell_type": "markdown",
   "id": "5c1c0ca8",
   "metadata": {},
   "source": [
    "Are there any artists that have more than 1 popular track? If yes, which and how many? "
   ]
  },
  {
   "cell_type": "code",
   "execution_count": 445,
   "id": "037b7d37",
   "metadata": {},
   "outputs": [
    {
     "name": "stdout",
     "output_type": "stream",
     "text": [
      "Artists with More Than 1 Popular Track:\n",
      "  - Billie Eilish: 3 tracks\n",
      "  - Dua Lipa: 3 tracks\n",
      "  - Travis Scott: 3 tracks\n",
      "  - Justin Bieber: 2 tracks\n",
      "  - Harry Styles: 2 tracks\n",
      "  - Lewis Capaldi: 2 tracks\n",
      "  - Post Malone: 2 tracks\n"
     ]
    }
   ],
   "source": [
    "# Count the number of tracks per artist\n",
    "artist_track_counts = df[\"artist\"].value_counts()\n",
    "\n",
    "# Filter artists with more than 1 track\n",
    "artists_with_multiple_tracks = artist_track_counts[artist_track_counts > 1]\n",
    "\n",
    "# Print the results\n",
    "if not artists_with_multiple_tracks.empty:\n",
    "    print(\"Artists with More Than 1 Popular Track:\")\n",
    "    for artist, track_count in artists_with_multiple_tracks.items():\n",
    "        print(f\"  - {artist}: {track_count} tracks\")\n",
    "else:\n",
    "    print(\"No artists have more than 1 popular track.\")\n"
   ]
  },
  {
   "cell_type": "markdown",
   "id": "0309e225",
   "metadata": {},
   "source": [
    "Who was the most popular artist?"
   ]
  },
  {
   "cell_type": "markdown",
   "id": "ec01444d",
   "metadata": {},
   "source": [
    "This section creates the dataset and assigns a rank to each track based on its position in the DataFrame :"
   ]
  },
  {
   "cell_type": "code",
   "execution_count": 431,
   "id": "9a486f7e",
   "metadata": {},
   "outputs": [],
   "source": [
    "df[\"rank\"] = df.index + 1"
   ]
  },
  {
   "cell_type": "markdown",
   "id": "e62accf5",
   "metadata": {},
   "source": [
    "This section groups the data by artist and calculates statistics such as the number of tracks, total rank score, and average rank. The results are sorted to prioritize artists with more tracks and better average ranks :"
   ]
  },
  {
   "cell_type": "code",
   "execution_count": 439,
   "id": "8be11ff2",
   "metadata": {},
   "outputs": [
    {
     "name": "stdout",
     "output_type": "stream",
     "text": [
      "Top 3 Artist Popularity Stats:\n",
      "               total_tracks  total_rank_score  average_rank\n",
      "artist                                                     \n",
      "Dua Lipa                  3                86     28.666667\n",
      "Billie Eilish             3                97     32.333333\n",
      "Travis Scott              3               128     42.666667\n"
     ]
    }
   ],
   "source": [
    "# Group by artist and calculate stats\n",
    "artist_stats = df.groupby(\"artist\").agg(\n",
    "    total_tracks=(\"rank\", \"count\"),  # Number of tracks per artist\n",
    "    total_rank_score=(\"rank\", \"sum\"),  # Sum of ranks for each artist\n",
    ")\n",
    "\n",
    "# Add normalized metric: average rank\n",
    "artist_stats[\"average_rank\"] = (\n",
    "    artist_stats[\"total_rank_score\"] / artist_stats[\"total_tracks\"]\n",
    ")\n",
    "\n",
    "# Sort by total_tracks and average_rank\n",
    "artist_stats = artist_stats.sort_values(\n",
    "    by=[\"total_tracks\", \"average_rank\"], ascending=[False, True]\n",
    ")\n",
    "\n",
    "# Display only the top 3 results\n",
    "top_3_artists = artist_stats.head(3)\n",
    "\n",
    "print(\"Top 3 Artist Popularity Stats:\")\n",
    "print(top_3_artists)"
   ]
  },
  {
   "cell_type": "markdown",
   "id": "205262fd",
   "metadata": {},
   "source": [
    "This section visualizes the artist popularity stats using a bar chart for the total number of tracks and a line chart for the average rank. The dual-axis chart helps compare these metrics for each artist :"
   ]
  },
  {
   "cell_type": "code",
   "execution_count": 444,
   "id": "db8d21b5",
   "metadata": {},
   "outputs": [
    {
     "data": {
      "image/png": "[encoded data removed]",
      "text/plain": [
       "<Figure size 1000x600 with 2 Axes>"
      ]
     },
     "metadata": {},
     "output_type": "display_data"
    }
   ],
   "source": [
    "# Plot bar chart for total tracks and average rank\n",
    "fig, ax1 = plt.subplots(figsize=(10, 6))\n",
    "\n",
    "# Bar chart for total tracks\n",
    "ax1.bar(artist_stats.index, artist_stats[\"total_tracks\"], color=\"skyblue\", label=\"Total Tracks\")\n",
    "ax1.set_ylabel(\"Total Tracks\", fontsize=12)\n",
    "ax1.set_xlabel(\"Artist\", fontsize=12)\n",
    "ax1.set_title(\"Artist Popularity Stats\", fontsize=14)\n",
    "ax1.tick_params(axis=\"x\", rotation=45)\n",
    "\n",
    "# Adjusting font size and rotation\n",
    "plt.xticks(fontsize=10, rotation=90)\n",
    "\n",
    "# Line chart for average rank\n",
    "ax2 = ax1.twinx()\n",
    "ax2.plot(\n",
    "    artist_stats.index, \n",
    "    artist_stats[\"average_rank\"], \n",
    "    color=\"orange\", \n",
    "    marker=\"o\", \n",
    "    label=\"Average Rank\"\n",
    ")\n",
    "ax2.set_ylabel(\"Average Rank\", fontsize=12)\n",
    "ax2.invert_yaxis()  # Invert average rank (lower rank = better)\n",
    "\n",
    "# Add legends\n",
    "ax2.legend(loc=\"upper right\")  # Average Rank legend at the top\n",
    "ax1.legend(loc=\"upper right\", bbox_to_anchor=(1, 0.92))  # Total Tracks legend just below\n",
    "\n",
    "plt.tight_layout()\n",
    "plt.show()\n"
   ]
  },
  {
   "cell_type": "markdown",
   "id": "098ed98e",
   "metadata": {},
   "source": [
    "Let's check how many unique artist made it to the top 50 list :"
   ]
  },
  {
   "cell_type": "code",
   "execution_count": 407,
   "id": "ce243fa5",
   "metadata": {},
   "outputs": [
    {
     "name": "stdout",
     "output_type": "stream",
     "text": [
      "Total number of unique artists : 40\n"
     ]
    }
   ],
   "source": [
    "unique_artists_count = df[\"artist\"].nunique()\n",
    "\n",
    "print(f\"Total number of unique artists : {unique_artists_count}\")"
   ]
  },
  {
   "cell_type": "markdown",
   "id": "e406ff1d",
   "metadata": {},
   "source": [
    "This section looks deeper in a album analysis and provide answers to the questions :\n",
    "1. How many albums in total have their songs in the top 50? \n",
    "2. Are there any albums that have more than 1 popular track? If yes, which and how many?"
   ]
  },
  {
   "cell_type": "code",
   "execution_count": 408,
   "id": "34904682",
   "metadata": {},
   "outputs": [
    {
     "name": "stdout",
     "output_type": "stream",
     "text": [
      "Total number of unique albums in the Top 50: 45\n",
      "Albums with more than 1 popular track:\n",
      "album\n",
      "Future Nostalgia        3\n",
      "Hollywood's Bleeding    2\n",
      "Fine Line               2\n",
      "Changes                 2\n",
      "Name: count, dtype: int64\n",
      "\n",
      "Total number of albums that have multiple popular tracks: 4\n"
     ]
    }
   ],
   "source": [
    "total_unique_albums = df[\"album\"].nunique()\n",
    "\n",
    "print(f\"Total number of unique albums in the Top 50: {total_unique_albums}\")\n",
    "\n",
    "album_track_counts = df[\"album\"].value_counts()\n",
    "\n",
    "albums_with_multiple_tracks = album_track_counts[album_track_counts > 1]\n",
    "\n",
    "total_albums = len(albums_with_multiple_tracks)\n",
    "\n",
    "print(\"Albums with more than 1 popular track:\")\n",
    "print(albums_with_multiple_tracks)\n",
    "\n",
    "print(f\"\\nTotal number of albums that have multiple popular tracks: {total_albums}\")"
   ]
  },
  {
   "cell_type": "markdown",
   "id": "869a2419",
   "metadata": {},
   "source": [
    "Danceability is a measure used in music analysis to describe how suitable a track is for dancing. It is typically determined by a combination of musical features such as tempo, rhythm stability, beat strength, and overall regularity. Let's see which tracks had a high danceability score, above 0.7 :"
   ]
  },
  {
   "cell_type": "code",
   "execution_count": 448,
   "id": "d254682c",
   "metadata": {},
   "outputs": [
    {
     "name": "stdout",
     "output_type": "stream",
     "text": [
      "Tracks with a danceability score above 0.7:\n",
      "                                       track_name  danceability\n",
      "1                                    Dance Monkey         0.825\n",
      "2                                         The Box         0.896\n",
      "3                           Roses - Imanbek Remix         0.785\n",
      "4                                 Don't Start Now         0.793\n",
      "5                    ROCKSTAR (feat. Roddy Ricch)         0.746\n",
      "7                death bed (coffee for your head)         0.726\n",
      "8                                         Falling         0.784\n",
      "10                                           Tusa         0.803\n",
      "13                                Blueberry Faygo         0.774\n",
      "14                       Intentions (feat. Quavo)         0.806\n",
      "15                                   Toosie Slide         0.830\n",
      "17                                         Say So         0.787\n",
      "18                                       Memories         0.764\n",
      "19                     Life Is Good (feat. Drake)         0.795\n",
      "20               Savage Love (Laxed - Siren Beat)         0.767\n",
      "22                                    Breaking Me         0.789\n",
      "24                            everything i wanted         0.704\n",
      "25                                       Señorita         0.759\n",
      "26                                        bad guy         0.701\n",
      "27                WAP (feat. Megan Thee Stallion)         0.935\n",
      "28                                    Sunday Best         0.878\n",
      "29                    Godzilla (feat. Juice WRLD)         0.808\n",
      "31                                 Break My Heart         0.730\n",
      "32                                       Dynamite         0.746\n",
      "33               Supalonely (feat. Gus Dapperton)         0.862\n",
      "37  Sunflower - Spider-Man: Into the Spider-Verse         0.755\n",
      "38                                          Hawái         0.783\n",
      "39                                        Ride It         0.880\n",
      "40                                     goosebumps         0.841\n",
      "41                      RITMO (Bad Boys For Life)         0.723\n",
      "42                                     THE SCOTTS         0.716\n",
      "49                                     SICKO MODE         0.834\n"
     ]
    }
   ],
   "source": [
    "high_danceability_tracks = df[df[\"danceability\"] > 0.7]\n",
    "\n",
    "print(\"Tracks with a danceability score above 0.7:\")\n",
    "print(high_danceability_tracks[[\"track_name\", \"danceability\"]])"
   ]
  },
  {
   "cell_type": "markdown",
   "id": "dc8b0982",
   "metadata": {},
   "source": [
    "These tracks have a low danceability score, below 0.4 :"
   ]
  },
  {
   "cell_type": "code",
   "execution_count": 410,
   "id": "137209ee",
   "metadata": {},
   "outputs": [
    {
     "name": "stdout",
     "output_type": "stream",
     "text": [
      "Tracks with a danceability score above 0.7:\n",
      "              track_name  danceability\n",
      "44  lovely (with Khalid)         0.351\n"
     ]
    }
   ],
   "source": [
    "low_danceability_tracks = df[df[\"danceability\"] < 0.4]\n",
    "\n",
    "print(\"Tracks with a danceability score above 0.7:\")\n",
    "print(low_danceability_tracks[[\"track_name\", \"danceability\"]])"
   ]
  },
  {
   "cell_type": "markdown",
   "id": "218b40fe",
   "metadata": {},
   "source": [
    "Loudness in music refers to the perceived intensity or volume of a track. It is a measure of the overall sound level, expressed in decibels (dB), and reflects how loud or soft a piece of music sounds to the human ear. These tracks were quite loud and had their loudness above -5 :"
   ]
  },
  {
   "cell_type": "code",
   "execution_count": 411,
   "id": "cf883ca6",
   "metadata": {},
   "outputs": [
    {
     "name": "stdout",
     "output_type": "stream",
     "text": [
      "Tracks with a loudness above -5:\n",
      "                                       track_name  loudness\n",
      "4                                 Don't Start Now    -4.521\n",
      "6                                Watermelon Sugar    -4.209\n",
      "10                                           Tusa    -3.280\n",
      "12                                        Circles    -3.497\n",
      "16                                  Before You Go    -4.858\n",
      "17                                         Say So    -4.577\n",
      "21                                      Adore You    -3.675\n",
      "23                         Mood (feat. iann dior)    -3.558\n",
      "31                                 Break My Heart    -3.434\n",
      "32                                       Dynamite    -4.410\n",
      "33               Supalonely (feat. Gus Dapperton)    -4.746\n",
      "35                Rain On Me (with Ariana Grande)    -3.764\n",
      "37  Sunflower - Spider-Man: Into the Spider-Verse    -4.368\n",
      "38                                          Hawái    -3.454\n",
      "39                                        Ride It    -4.258\n",
      "40                                     goosebumps    -3.370\n",
      "43                                        Safaera    -4.074\n",
      "48                                       Physical    -3.756\n",
      "49                                     SICKO MODE    -3.714\n"
     ]
    }
   ],
   "source": [
    "high_loudness_tracks = df[df[\"loudness\"] > -5]\n",
    "\n",
    "print(\"Tracks with a loudness above -5:\")\n",
    "print(high_loudness_tracks[[\"track_name\", \"loudness\"]])"
   ]
  },
  {
   "cell_type": "markdown",
   "id": "92ea08a5",
   "metadata": {},
   "source": [
    "These tracks had their loudness below -8 :"
   ]
  },
  {
   "cell_type": "code",
   "execution_count": null,
   "id": "60c930a4",
   "metadata": {},
   "outputs": [
    {
     "name": "stdout",
     "output_type": "stream",
     "text": [
      "Tracks with a loudness below -8:\n",
      "                                        track_name  loudness\n",
      "7                 death bed (coffee for your head)    -8.765\n",
      "8                                          Falling    -8.756\n",
      "15                                    Toosie Slide    -8.820\n",
      "20                Savage Love (Laxed - Siren Beat)    -8.520\n",
      "24                             everything i wanted   -12.453\n",
      "26                                         bad guy   -10.965\n",
      "36                             HIGHEST IN THE ROOM    -8.764\n",
      "44                            lovely (with Khalid)   -10.109\n",
      "47  If the World Was Ending - feat. Julia Michaels   -10.086\n"
     ]
    }
   ],
   "source": [
    "low_loudness_tracks = df[df[\"loudness\"] < -8]\n",
    "\n",
    "print(\"Tracks with a loudness below -8:\")\n",
    "print(low_loudness_tracks[[\"track_name\", \"loudness\"]])"
   ]
  },
  {
   "cell_type": "markdown",
   "id": "03bb5a9b",
   "metadata": {},
   "source": [
    "Which tracks are the longest and the shortest?"
   ]
  },
  {
   "cell_type": "markdown",
   "id": "4f4added",
   "metadata": {},
   "source": [
    "This section identifies the longest and shortest tracks in the dataset and converts their durations to a more readable minutes and seconds format :"
   ]
  },
  {
   "cell_type": "code",
   "execution_count": 452,
   "id": "f253a780",
   "metadata": {},
   "outputs": [
    {
     "name": "stdout",
     "output_type": "stream",
     "text": [
      "Longest Track:\n",
      "    track_name duration_min_sec\n",
      "49  SICKO MODE     5 min 12 sec\n",
      "\n",
      "Shortest Track:\n",
      "                track_name duration_min_sec\n",
      "23  Mood (feat. iann dior)     2 min 20 sec\n"
     ]
    }
   ],
   "source": [
    "# Find the longest and shortest tracks\n",
    "longest_track = df[df[\"duration_ms\"] == df[\"duration_ms\"].max()].copy()\n",
    "shortest_track = df[df[\"duration_ms\"] == df[\"duration_ms\"].min()].copy()\n",
    "\n",
    "# Convert duration from milliseconds to minutes and seconds\n",
    "longest_track[\"duration_min_sec\"] = longest_track[\"duration_ms\"].apply(\n",
    "    lambda x: f\"{x // 60000} min {(x % 60000) // 1000:02d} sec\"\n",
    ")\n",
    "shortest_track[\"duration_min_sec\"] = shortest_track[\"duration_ms\"].apply(\n",
    "    lambda x: f\"{x // 60000} min {(x % 60000) // 1000:02d} sec\"\n",
    ")\n",
    "\n",
    "# Display results\n",
    "print(\"Longest Track:\")\n",
    "print(longest_track[[\"track_name\", \"duration_min_sec\"]])\n",
    "\n",
    "print(\"\\nShortest Track:\")\n",
    "print(shortest_track[[\"track_name\", \"duration_min_sec\"]])\n",
    "\n"
   ]
  },
  {
   "cell_type": "markdown",
   "id": "4a38f10f",
   "metadata": {},
   "source": [
    "This section calculates the average track length by taking the mean of all track durations in the dataset and formats it as minutes and seconds :"
   ]
  },
  {
   "cell_type": "code",
   "execution_count": null,
   "id": "6bdd8ec5",
   "metadata": {},
   "outputs": [
    {
     "name": "stdout",
     "output_type": "stream",
     "text": [
      "\n",
      "Average Track Length (calculated across all tracks): 3 min 19 sec\n"
     ]
    }
   ],
   "source": [
    "# Calculate average track length across all tracks\n",
    "average_duration_ms = df[\"duration_ms\"].mean()  # Mean duration in milliseconds\n",
    "average_duration_min_sec = f\"{int(average_duration_ms // 60000)} min {int((average_duration_ms % 60000) // 1000):02d} sec\"\n",
    "\n",
    "print(f\"\\nAverage Track Length (calculated across all tracks): {average_duration_min_sec}\")"
   ]
  },
  {
   "cell_type": "markdown",
   "id": "b0fbd904",
   "metadata": {},
   "source": [
    "Which genre is the most popular? Which genres have just one song on the top 50? How many genres in total are represented in the top 50?"
   ]
  },
  {
   "cell_type": "markdown",
   "id": "cdbc6d6f",
   "metadata": {},
   "source": [
    "This section determinates the most popular genre, identifies genres with only one song, calculates the unique genres and groups the data for a pie chart :"
   ]
  },
  {
   "cell_type": "code",
   "execution_count": 457,
   "id": "5e4fc7c6",
   "metadata": {},
   "outputs": [],
   "source": [
    "# Calculate the most popular genre and its count\n",
    "most_popular_genre = df[\"genre\"].value_counts().idxmax()\n",
    "most_popular_genre_count = df[\"genre\"].value_counts().max()\n",
    "\n",
    "# Identify genres with only one song\n",
    "genres_with_one_song = (\n",
    "    df[\"genre\"].value_counts()[df[\"genre\"].value_counts() == 1].index.tolist()\n",
    ")\n",
    "\n",
    "# Calculate the total number of unique genres\n",
    "total_genres = df[\"genre\"].nunique()\n",
    "\n",
    "# Group genres for the pie chart\n",
    "genre_counts = df[\"genre\"].value_counts()\n",
    "\n",
    "# Separate \"Other Genres\" (genres with only 1 song)\n",
    "main_genres = genre_counts[genre_counts > 1]\n",
    "other_genres_count = genre_counts[genre_counts == 1].sum()\n",
    "\n",
    "# Add \"Other Genres\" to the main genres\n",
    "main_genres[\"Other Genres\"] = other_genres_count"
   ]
  },
  {
   "cell_type": "markdown",
   "id": "7c087647",
   "metadata": {},
   "source": [
    "Genres popularity visualised in a pie chart (Other Genres stands for all the genres that had only 1 song in the top 50 list) : "
   ]
  },
  {
   "cell_type": "code",
   "execution_count": 464,
   "id": "bb51fa91",
   "metadata": {},
   "outputs": [
    {
     "data": {
      "image/png": "[encoded data removed]",
      "text/plain": [
       "<Figure size 1000x800 with 1 Axes>"
      ]
     },
     "metadata": {},
     "output_type": "display_data"
    },
    {
     "name": "stdout",
     "output_type": "stream",
     "text": [
      "The most popular genre is 'Pop' with 14 songs, followed by 'Hip-Hop/Rap' and 'Other Genres' close by.\n",
      "\n",
      "Other genres with just one song in the top 50:\n",
      "['Nu-disco', 'R&B/Hip-Hop alternative', 'Pop/Soft Rock', 'Pop rap', 'Hip-Hop/Trap', 'Dance-pop/Disco', 'Disco-pop', 'Dreampop/Hip-Hop/R&B', 'Alternative/reggaeton/experimental', 'Chamber pop']\n",
      "\n",
      "Total number of genres represented in the top 50: 16\n"
     ]
    }
   ],
   "source": [
    "# Create the pie chart\n",
    "plt.figure(figsize=(10, 8))\n",
    "main_genres.plot(\n",
    "    kind=\"pie\", \n",
    "    autopct=\"%1.1f%%\", \n",
    "    startangle=90, \n",
    "    textprops={\"fontsize\": 12}, \n",
    "    colors=plt.cm.Paired.colors,\n",
    "    label=\"\"\n",
    ")\n",
    "plt.title(\"Distribution of Genres in the Top 50\", fontsize=14)\n",
    "plt.ylabel(\"\")  # Remove default y-axis label\n",
    "\n",
    "plt.tight_layout()\n",
    "plt.show()\n",
    "\n",
    "print(f\"The most popular genre is '{most_popular_genre}' with {most_popular_genre_count} songs, followed by 'Hip-Hop/Rap' and 'Other Genres' close by.\")\n",
    "print(f\"\\nOther genres with just one song in the top 50:\")\n",
    "print(genres_with_one_song)\n",
    "print(f\"\\nTotal number of genres represented in the top 50: {total_genres}\")"
   ]
  },
  {
   "cell_type": "markdown",
   "id": "ecfe2f77",
   "metadata": {},
   "source": [
    "How does the danceability score compare between Pop, Hip-Hop/Rap, Dance/Electronic, and Alternative/Indie genres?"
   ]
  },
  {
   "cell_type": "code",
   "execution_count": 485,
   "id": "c08bea6c",
   "metadata": {},
   "outputs": [
    {
     "name": "stdout",
     "output_type": "stream",
     "text": [
      "Danceability Score Comparison by Genre:\n",
      "               genre      mean  median    min    max\n",
      "0  Alternative/Indie  0.661750   0.663  0.459  0.862\n",
      "1   Dance/Electronic  0.755000   0.785  0.647  0.880\n",
      "2        Hip-Hop/Rap  0.765538   0.774  0.598  0.896\n",
      "3                Pop  0.677571   0.690  0.464  0.806\n",
      "\n",
      "Conclusion:\n",
      "  - The most danceable genre by mean is 'Hip-Hop/Rap' with an average danceability score of 0.77.\n",
      "  - The most danceable genre by median is 'Dance/Electronic' with a median danceability score of 0.79.\n",
      "  - Danceability comparison for all genres:\n",
      "    * Alternative/Indie: average danceability = 0.66, median danceability = 0.66, range = 0.46 to 0.86.\n",
      "    * Dance/Electronic: average danceability = 0.76, median danceability = 0.79, range = 0.65 to 0.88.\n",
      "    * Hip-Hop/Rap: average danceability = 0.77, median danceability = 0.77, range = 0.60 to 0.90.\n",
      "    * Pop: average danceability = 0.68, median danceability = 0.69, range = 0.46 to 0.81.\n"
     ]
    }
   ],
   "source": [
    "\n",
    "# Filter only the genres of interest\n",
    "selected_genres = [\"Pop\", \"Hip-Hop/Rap\", \"Dance/Electronic\", \"Alternative/Indie\"]\n",
    "filtered_df = df[df[\"genre\"].isin(selected_genres)]\n",
    "\n",
    "# Group by genre and calculate danceability statistics\n",
    "danceability_stats = (\n",
    "    filtered_df.groupby(\"genre\")[\"danceability\"]\n",
    "    .agg(mean=\"mean\", median=\"median\", min=\"min\", max=\"max\")\n",
    "    .reset_index()\n",
    ")\n",
    "\n",
    "# Determine the genre with the highest danceability by both mean and median scores\n",
    "most_danceable_genre_mean = danceability_stats.loc[danceability_stats[\"mean\"].idxmax()]\n",
    "most_danceable_genre_median = danceability_stats.loc[danceability_stats[\"median\"].idxmax()]\n",
    "\n",
    "# Print the results\n",
    "print(\"Danceability Score Comparison by Genre:\")\n",
    "print(danceability_stats)\n",
    "\n",
    "print(\"\\nConclusion:\")\n",
    "print(\n",
    "    f\"  - The most danceable genre by mean is '{most_danceable_genre_mean['genre']}' \"\n",
    "    f\"with an average danceability score of {most_danceable_genre_mean['mean']:.2f}.\"\n",
    ")\n",
    "print(\n",
    "    f\"  - The most danceable genre by median is '{most_danceable_genre_median['genre']}' \"\n",
    "    f\"with a median danceability score of {most_danceable_genre_median['median']:.2f}.\"\n",
    ")\n",
    "print(\"  - Danceability comparison for all genres:\")\n",
    "for _, row in danceability_stats.iterrows():\n",
    "    print(\n",
    "        f\"    * {row['genre']}: average danceability = {row['mean']:.2f}, \"\n",
    "        f\"median danceability = {row['median']:.2f}, range = {row['min']:.2f} to {row['max']:.2f}.\"\n",
    "    )\n"
   ]
  },
  {
   "cell_type": "markdown",
   "id": "0e96ed5c",
   "metadata": {},
   "source": [
    "How does the loudness score compare between Pop, Hip-Hop/Rap, Dance/Electronic, and Alternative/Indie genres?"
   ]
  },
  {
   "cell_type": "code",
   "execution_count": 419,
   "id": "a4af5166",
   "metadata": {},
   "outputs": [
    {
     "name": "stdout",
     "output_type": "stream",
     "text": [
      "Loudness Score Comparison by Genre:\n",
      "               genre      mean  median     min    max\n",
      "0  Alternative/Indie -5.421000 -5.2685  -6.401 -4.746\n",
      "1   Dance/Electronic -5.338000 -5.4570  -7.567 -3.756\n",
      "2        Hip-Hop/Rap -6.917846 -7.6480  -8.820 -3.370\n",
      "3                Pop -6.317429 -6.6445 -12.453 -3.280\n",
      "\n",
      "Conclusion:\n",
      "  - The quietest genre is 'Hip-Hop/Rap' with an average loudness of -6.92 dB.\n",
      "  - Loudness comparison for all genres:\n",
      "    * Alternative/Indie: average loudness = -5.42 dB.\n",
      "    * Dance/Electronic: average loudness = -5.34 dB.\n",
      "    * Hip-Hop/Rap: average loudness = -6.92 dB.\n",
      "    * Pop: average loudness = -6.32 dB.\n"
     ]
    }
   ],
   "source": [
    "# Filter only the genres of interest\n",
    "selected_genres = [\"Pop\", \"Hip-Hop/Rap\", \"Dance/Electronic\", \"Alternative/Indie\"]\n",
    "filtered_df = df[df[\"genre\"].isin(selected_genres)]\n",
    "\n",
    "# Group by genre and calculate loudness statistics\n",
    "loudness_stats = (\n",
    "    filtered_df.groupby(\"genre\")[\"loudness\"]\n",
    "    .agg(mean=\"mean\", median=\"median\", min=\"min\", max=\"max\")\n",
    "    .reset_index()\n",
    ")\n",
    "\n",
    "# Determine the quietest genre by mean loudness\n",
    "quietest_genre = loudness_stats.loc[loudness_stats[\"mean\"].idxmin()]\n",
    "\n",
    "# Display results\n",
    "print(\"Loudness Score Comparison by Genre:\")\n",
    "print(loudness_stats)\n",
    "\n",
    "print(\"\\nConclusion:\")\n",
    "print(\n",
    "    f\"  - The quietest genre is '{quietest_genre['genre']}' with an average loudness of {quietest_genre['mean']:.2f} dB.\"\n",
    ")\n",
    "print(\"  - Loudness comparison for all genres:\")\n",
    "for _, row in loudness_stats.iterrows():\n",
    "    print(f\"    * {row['genre']}: average loudness = {row['mean']:.2f} dB.\")"
   ]
  },
  {
   "cell_type": "markdown",
   "id": "44f22ac7",
   "metadata": {},
   "source": [
    "How does the acousticness score compare between Pop, Hip-Hop/Rap, Dance/Electronic, and Alternative/Indie genres?\n"
   ]
  },
  {
   "cell_type": "code",
   "execution_count": 420,
   "id": "8e302ea0",
   "metadata": {},
   "outputs": [
    {
     "name": "stdout",
     "output_type": "stream",
     "text": [
      "Acousticness Score Comparison by Genre:\n",
      "               genre      mean  median      min    max\n",
      "0  Alternative/Indie  0.583500  0.6460  0.29100  0.751\n",
      "1   Dance/Electronic  0.099440  0.0686  0.01370  0.223\n",
      "2        Hip-Hop/Rap  0.188741  0.1450  0.00513  0.731\n",
      "3                Pop  0.323843  0.2590  0.02100  0.902\n",
      "\n",
      "Conclusion:\n",
      "  - The most acoustic genre is 'Alternative/Indie' with an average acousticness of 0.58.\n",
      "  - Acousticness comparison for all genres:\n",
      "    * Alternative/Indie: average acousticness = 0.58.\n",
      "    * Dance/Electronic: average acousticness = 0.10.\n",
      "    * Hip-Hop/Rap: average acousticness = 0.19.\n",
      "    * Pop: average acousticness = 0.32.\n"
     ]
    }
   ],
   "source": [
    "# Filter only the genres of interest\n",
    "selected_genres = [\"Pop\", \"Hip-Hop/Rap\", \"Dance/Electronic\", \"Alternative/Indie\"]\n",
    "filtered_df = df[df[\"genre\"].isin(selected_genres)]\n",
    "\n",
    "# Group by genre and calculate acousticness statistics\n",
    "acousticness_stats = (\n",
    "    filtered_df.groupby(\"genre\")[\"acousticness\"]\n",
    "    .agg(mean=\"mean\", median=\"median\", min=\"min\", max=\"max\")\n",
    "    .reset_index()\n",
    ")\n",
    "\n",
    "# Determine the most acoustic genre by mean acousticness\n",
    "most_acoustic_genre = acousticness_stats.loc[acousticness_stats[\"mean\"].idxmax()]\n",
    "\n",
    "# Display results\n",
    "print(\"Acousticness Score Comparison by Genre:\")\n",
    "print(acousticness_stats)\n",
    "\n",
    "print(\"\\nConclusion:\")\n",
    "print(\n",
    "    f\"  - The most acoustic genre is '{most_acoustic_genre['genre']}' with an average acousticness of {most_acoustic_genre['mean']:.2f}.\"\n",
    ")\n",
    "print(\"  - Acousticness comparison for all genres:\")\n",
    "for _, row in acousticness_stats.iterrows():\n",
    "    print(f\"    * {row['genre']}: average acousticness = {row['mean']:.2f}.\")"
   ]
  },
  {
   "cell_type": "markdown",
   "id": "adbb4b9d",
   "metadata": {},
   "source": [
    "# Correlation analysis\n",
    "Which features are strongly positively, negatively or have little or none correlation? Exploring results and showing them in a form of a heatmap."
   ]
  },
  {
   "cell_type": "markdown",
   "id": "0d466472",
   "metadata": {},
   "source": [
    "Defining function to analyze correlations for reusability :"
   ]
  },
  {
   "cell_type": "code",
   "execution_count": 482,
   "id": "363dee3f",
   "metadata": {},
   "outputs": [],
   "source": [
    "def analyze_correlations(correlation_matrix, threshold, description, condition=\">\"):\n",
    "    \"\"\"\n",
    "    Analyzes correlations based on a threshold and condition, with compact output for no correlations.\n",
    "\n",
    "    Parameters:\n",
    "        correlation_matrix (DataFrame): The correlation matrix.\n",
    "        threshold (float): The correlation threshold.\n",
    "        description (str): Description of the type of correlation (e.g., \"Strong Positive\").\n",
    "        condition (str): The condition for filtering correlations (\">\", \"<\", etc.).\n",
    "\n",
    "    Returns:\n",
    "        None: Prints the result of the analysis.\n",
    "    \"\"\"\n",
    "    if condition == \">\":\n",
    "        filtered = correlation_matrix[(correlation_matrix > threshold) & (correlation_matrix != 1.0)]\n",
    "    elif condition == \"<\":\n",
    "        filtered = correlation_matrix[(correlation_matrix < threshold)]\n",
    "    elif condition == \"range\":\n",
    "        lower, upper = threshold\n",
    "        filtered = correlation_matrix[(correlation_matrix > lower) & (correlation_matrix < upper)]\n",
    "    else:\n",
    "        raise ValueError(\"Invalid condition. Use '>', '<', or 'range'.\")\n",
    "\n",
    "    # Extract pairs of correlated features\n",
    "    pairs = []\n",
    "    seen = set()\n",
    "    for row in filtered.index:\n",
    "        for col in filtered.columns:\n",
    "            if row != col and not pd.isnull(filtered.loc[row, col]):\n",
    "                sorted_pair = tuple(sorted([row, col]))  # Ensure consistent order\n",
    "                if sorted_pair not in seen:\n",
    "                    pairs.append((row, col, filtered.loc[row, col]))\n",
    "                    seen.add(sorted_pair)\n",
    "\n",
    "    # Print results\n",
    "    print(f\"\\nConclusion: {description}\")\n",
    "    if len(pairs) > 10:  # If too many pairs, summarize compactly\n",
    "        pair_list = \", \".join([f\"{row}-{col}\" for row, col, _ in pairs[:10]])\n",
    "        print(f\" Too many pairs to display, {len(pairs)} found. Examples: {pair_list}...\")\n",
    "    elif pairs:\n",
    "        compact_output = \", \".join([f\"{row}-{col} (r={value:.2f})\" for row, col, value in pairs])\n",
    "        print(f\"  {compact_output}\")\n",
    "    else:\n",
    "        print(\"  No correlations found.\")\n"
   ]
  },
  {
   "cell_type": "markdown",
   "id": "cbe38cf7",
   "metadata": {},
   "source": [
    "Select numerical columns and calculate the correlation matrix :"
   ]
  },
  {
   "cell_type": "code",
   "execution_count": null,
   "id": "a9f7bd38",
   "metadata": {},
   "outputs": [],
   "source": [
    "numerical_df = df.select_dtypes(include=[\"number\"])\n",
    "correlation_matrix = numerical_df.corr()"
   ]
  },
  {
   "cell_type": "markdown",
   "id": "c9e08e28",
   "metadata": {},
   "source": [
    "Let's analyze strong positive correlations :"
   ]
  },
  {
   "cell_type": "code",
   "execution_count": 475,
   "id": "2e4f5ae1",
   "metadata": {},
   "outputs": [
    {
     "name": "stdout",
     "output_type": "stream",
     "text": [
      "\n",
      "Conclusion: Strong Positive Correlations (r > 0.7)\n",
      "  - energy and loudness: correlation = 0.79\n"
     ]
    }
   ],
   "source": [
    "analyze_correlations(\n",
    "    correlation_matrix, \n",
    "    threshold=0.7, \n",
    "    description=\"Strong Positive Correlations (r > 0.7)\", \n",
    "    condition=\">\"\n",
    ")"
   ]
  },
  {
   "cell_type": "markdown",
   "id": "55f63a73",
   "metadata": {},
   "source": [
    "Again, let's analyze strong negative correlations :"
   ]
  },
  {
   "cell_type": "code",
   "execution_count": 476,
   "id": "8c4bf81c",
   "metadata": {},
   "outputs": [
    {
     "name": "stdout",
     "output_type": "stream",
     "text": [
      "\n",
      "Conclusion: Strong Negative Correlations (r < -0.7)\n",
      "  No correlations found.\n"
     ]
    }
   ],
   "source": [
    "analyze_correlations(\n",
    "    correlation_matrix, \n",
    "    threshold=-0.7, \n",
    "    description=\"Strong Negative Correlations (r < -0.7)\", \n",
    "    condition=\"<\"\n",
    ")\n"
   ]
  },
  {
   "cell_type": "markdown",
   "id": "ae941b6d",
   "metadata": {},
   "source": [
    "And finallyt let's analyze features with no correlations :"
   ]
  },
  {
   "cell_type": "code",
   "execution_count": 483,
   "id": "dfeecd8d",
   "metadata": {},
   "outputs": [
    {
     "name": "stdout",
     "output_type": "stream",
     "text": [
      "\n",
      "Conclusion: Features with No Correlation (-0.1 < r < 0.1)\n",
      " Too many pairs to display, 35 found. Examples: energy-key, energy-speechiness, energy-liveness, energy-tempo, energy-duration_ms, energy-rank, danceability-instrumentalness, danceability-liveness, danceability-duration_ms, key-loudness...\n"
     ]
    }
   ],
   "source": [
    "analyze_correlations(\n",
    "    correlation_matrix, \n",
    "    threshold=(-0.1, 0.1), \n",
    "    description=\"Features with No Correlation (-0.1 < r < 0.1)\", \n",
    "    condition=\"range\"\n",
    ")\n"
   ]
  },
  {
   "cell_type": "markdown",
   "id": "05c18d61",
   "metadata": {},
   "source": [
    "Heatmap of correlations :"
   ]
  },
  {
   "cell_type": "code",
   "execution_count": 484,
   "id": "67902472",
   "metadata": {},
   "outputs": [
    {
     "data": {
      "image/png": "[encoded data removed]",
      "text/plain": [
       "<Figure size 1200x800 with 2 Axes>"
      ]
     },
     "metadata": {},
     "output_type": "display_data"
    }
   ],
   "source": [
    "# Visualize the correlation matrix as a heatmap\n",
    "plt.figure(figsize=(12, 8))\n",
    "sns.heatmap(\n",
    "    correlation_matrix, \n",
    "    annot=False,  # Set to True to display values on the heatmap\n",
    "    cmap=\"coolwarm\", \n",
    "    cbar=True\n",
    ")\n",
    "plt.title(\"Heatmap of Correlations\", fontsize=14)\n",
    "plt.show()"
   ]
  },
  {
   "cell_type": "markdown",
   "id": "05c6e985",
   "metadata": {},
   "source": [
    "# Conclusion of an analysis\n",
    "\n",
    "From the 50 top-hit observations, we can identify several factors that contribute to a song becoming a blockbuster hit. The standout artists of 2020 were undoubtedly Dua Lipa, Billie Eilish, and Travis Scott, each dominating the Spotify charts with three hit tracks. Interestingly, track loudness did not play a significant role in determining a song's success; however, a slight trend toward higher loudness levels was observed among the hits.\n",
    "\n",
    "A notable feature of the 2020 chart was the diversity of artists—40 unique performers were represented, indicating that listeners had a broad range of preferences rather than favoring just a few dominant names. As expected, pop music reigned as the most popular genre. Other genres, such as Nu-disco, R&B/Hip-Hop Alternative, Pop/Soft Rock, Pop Rap, Hip-Hop/Trap, Dance-pop/Disco, and others, had only one track each on the list, reflecting limited popularity. In total, the chart showcased a rich genre diversity with 16 distinct genres represented.\n",
    "\n",
    "Song durations were fairly traditional, with the shortest track at 2:20 minutes and the longest at 5:12 minutes. Energy and loudness had the highest correlation among the analyzed features, while there were no significant negative correlations, and many features showed little to no correlation with each other. High danceability was a clear preference in the top charts, with songs featuring higher danceability scores being far more prevalent than those with lower scores.\n",
    "\n",
    "So what are the perfect ingredients for global hit? It’s a mix of catchy rhythms, genre appeal, and emotional resonance. Features like energy, danceability, and loudness create the dynamic soundscapes that listeners gravitate toward. Pop music, with its universal appeal and relatable lyrics, consistently strikes a chord with audiences. Meanwhile, diversity in genres and artists demonstrates that a hit song doesn’t have to conform to one specific formula—creativity and distinctiveness also play a key role. Artists who can balance these factors while staying relevant to cultural and listener trends are more likely to craft songs that capture widespread attention.\n",
    "\n",
    "In conclusion, the 2020 Top 50 chart reflects a year of musical variety and innovation, showing that blockbuster hits are born from a combination of technical features, genre diversity, and the ability to connect with audiences on a deeper level. As the music landscape evolves, the blueprint for a hit song will continue to shift, driven by trends, technology, and creativity. "
   ]
  }
 ],
 "metadata": {
  "kernelspec": {
   "display_name": "Python 3",
   "language": "python",
   "name": "python3"
  },
  "language_info": {
   "codemirror_mode": {
    "name": "ipython",
    "version": 3
   },
   "file_extension": ".py",
   "mimetype": "text/x-python",
   "name": "python",
   "nbconvert_exporter": "python",
   "pygments_lexer": "ipython3",
   "version": "3.13.0"
  }
 },
 "nbformat": 4,
 "nbformat_minor": 5
}
