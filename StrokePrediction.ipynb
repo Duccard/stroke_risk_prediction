{
 "cells": [
  {
   "cell_type": "markdown",
   "id": "e57b8711",
   "metadata": {},
   "source": [
    "# Stroke Prediction Analysis"
   ]
  },
  {
   "cell_type": "markdown",
   "id": "080f7cc1",
   "metadata": {},
   "source": []
  }
 ],
 "metadata": {
  "language_info": {
   "name": "python"
  }
 },
 "nbformat": 4,
 "nbformat_minor": 5
}
