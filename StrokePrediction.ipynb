{
 "cells": [
  {
   "cell_type": "markdown",
   "id": "0790c377",
   "metadata": {},
   "source": [
    "Analysis"
   ]
  },
  {
   "cell_type": "markdown",
   "id": "21410599",
   "metadata": {},
   "source": [
    "Menu Button --->"
   ]
  },
  {
   "cell_type": "markdown",
   "id": "6b353831",
   "metadata": {},
   "source": []
  }
 ],
 "metadata": {
  "kernelspec": {
   "display_name": "Python 3",
   "language": "python",
   "name": "python3"
  },
  "language_info": {
   "name": "python",
   "version": "3.13.0"
  }
 },
 "nbformat": 4,
 "nbformat_minor": 5
}
