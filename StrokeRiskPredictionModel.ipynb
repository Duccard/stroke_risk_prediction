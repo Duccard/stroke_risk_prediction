{
 "cells": [
  {
   "cell_type": "markdown",
   "id": "e57b8711",
   "metadata": {},
   "source": [
    "# Stroke Risk Prediction Model: Johns Hopkins Hospital"
   ]
  },
  {
   "cell_type": "markdown",
   "id": "06c18ba9",
   "metadata": {},
   "source": [
    "## Introduction"
   ]
  },
  {
   "cell_type": "markdown",
   "id": "2ca6c111",
   "metadata": {},
   "source": [
    "### Background"
   ]
  },
  {
   "cell_type": "markdown",
   "id": "080f7cc1",
   "metadata": {},
   "source": [
    "In this project I will explore dataset designed to identify stroke risk in patients. Stroke is a major global health concern, ranking as the second leading cause of death worldwide. It is also a leading cause of disability. Annually, millions experience strokes, and a significant number of these result in death. After data exploration and analysis, I will build, train and deploy a model which could predict whether patients is likely to have stroke or not, based on parameters like age, gender, lifestyle choices, bmi and so on. "
   ]
  },
  {
   "cell_type": "markdown",
   "id": "c11a234d",
   "metadata": {},
   "source": [
    "### Problem"
   ]
  },
  {
   "cell_type": "markdown",
   "id": "68e3789a",
   "metadata": {},
   "source": [
    "It’s hard to spot which patients are at high risk of stroke, making it tough to catch it early and prevent it."
   ]
  },
  {
   "cell_type": "markdown",
   "id": "62cb6d6a",
   "metadata": {},
   "source": [
    "### Goal"
   ]
  },
  {
   "cell_type": "markdown",
   "id": "f1eefa73",
   "metadata": {},
   "source": [
    "To build a model that helps doctors spot patients at higher risk of stroke early so they can take action and help prevent deaths."
   ]
  },
  {
   "cell_type": "markdown",
   "id": "a42e1994",
   "metadata": {},
   "source": [
    "### Hypotheses"
   ]
  },
  {
   "cell_type": "markdown",
   "id": "13e2eafe",
   "metadata": {},
   "source": [
    "5 hypotheses I want to explore:"
   ]
  },
  {
   "cell_type": "markdown",
   "id": "13408411",
   "metadata": {},
   "source": [
    "1. Older age increases likelyhood of stroke.\n",
    "- **H₀:** Age is not associated with stroke risk.\n",
    "- **H₁:** Increasing age is associated with higher stroke risk."
   ]
  },
  {
   "cell_type": "markdown",
   "id": "c2e976a8",
   "metadata": {},
   "source": [
    "2. Males are more likely to have a stroke than females.\n",
    "- **H₀:** Gender has no effect on stroke risk.\n",
    "- **H₁:** Male patients have a higher probability of experiencing a stroke than female patients."
   ]
  },
  {
   "cell_type": "markdown",
   "id": "e5d0e518",
   "metadata": {},
   "source": [
    "3. Obesity increases risk of a stroke.\n",
    "- **H₀:** BMI is not associated with stroke risk.\n",
    "- **H₁:** Higher BMI is associated with an increased likelihood of stroke."
   ]
  },
  {
   "cell_type": "markdown",
   "id": "37d4b659",
   "metadata": {},
   "source": [
    "4. Smokers or former smokers have increased chance of having a stroke\n",
    "- **H₀:** Smoking status is not associated with stroke risk.\n",
    "- **H₁:** Smoking is associated with an increased risk of stroke."
   ]
  },
  {
   "cell_type": "markdown",
   "id": "d61b14f0",
   "metadata": {},
   "source": [
    "5. Having a hypertension increases chances of having a stroke\n",
    "- **H₀:** Hypertension is not associated with stroke risk.\n",
    "- **H₁:** Patients with hypertension have higher odds of experiencing a stroke."
   ]
  },
  {
   "cell_type": "markdown",
   "id": "31d38a7e",
   "metadata": {},
   "source": [
    "### Scope"
   ]
  },
  {
   "cell_type": "markdown",
   "id": "ad3a09d4",
   "metadata": {},
   "source": [
    "The analysis scope includes :\n",
    "\n",
    "- Data cleaning and preparation.\n",
    "- Descriptive analysis of patient demographics and health indicators.\n",
    "- Formulation and testing of clear, interpretable hypotheses about risk factors.\n",
    "- Development of various  models to predict stroke likelihood.\n",
    "- Interpretation of results to inform potential early intervention strategies.\n",
    "\n",
    "The project is limited to the variables available in the provided dataset and does not incorporate external medical records or real-time clinical data. The findings are intended for educational and exploratory purposes and do not replace professional medical advice."
   ]
  },
  {
   "cell_type": "markdown",
   "id": "bef27ff8",
   "metadata": {},
   "source": [
    "### Evaluation Metrics"
   ]
  },
  {
   "cell_type": "markdown",
   "id": "95528976",
   "metadata": {},
   "source": [
    "**Main Evaluation Metric:** Macro F1 Score. Balances precision and recall across classes to ensure fair assesment of performance on both stroke and non-strokes case in an imbalanced dataset."
   ]
  },
  {
   "cell_type": "markdown",
   "id": "b960df90",
   "metadata": {},
   "source": [
    "**Secondary Evaluation Metrics:**\n",
    "- Recall. Measures the ability to correctly indentify true stroke cases.\n",
    "- Precision. Assesses how many predicted stroke cases are actually correct.\n",
    "- ROC-AUC. It evaluates the model's ability to distinquish betweeen strokes and non-stroke cases.\n",
    "- Confusion Matrix. Provides detailed breakdown of correct and incorrect predictions."
   ]
  },
  {
   "cell_type": "markdown",
   "id": "75b55517",
   "metadata": {},
   "source": [
    "## Data Overview and Splitting"
   ]
  },
  {
   "cell_type": "markdown",
   "id": "15feb040",
   "metadata": {},
   "source": [
    "### Importing Libraries"
   ]
  },
  {
   "cell_type": "code",
   "execution_count": 38,
   "id": "9e5a2d7c",
   "metadata": {},
   "outputs": [],
   "source": [
    "import pandas as pd\n",
    "import numpy as np\n",
    "import matplotlib.pyplot as plt\n",
    "import seaborn as sns\n",
    "from sklearn.model_selection import train_test_split"
   ]
  },
  {
   "cell_type": "markdown",
   "id": "ba311a59",
   "metadata": {},
   "source": [
    "### Data Source and Loading the Data"
   ]
  },
  {
   "cell_type": "markdown",
   "id": "6379ca98",
   "metadata": {},
   "source": [
    "Data source is Kaggle: https://www.kaggle.com/datasets/fedesoriano/stroke-prediction-dataset?resource=download"
   ]
  },
  {
   "cell_type": "markdown",
   "id": "6fa12518",
   "metadata": {},
   "source": [
    "Loading the data and making a copy of it:"
   ]
  },
  {
   "cell_type": "code",
   "execution_count": null,
   "id": "5b15ad68",
   "metadata": {},
   "outputs": [],
   "source": [
    "data = pd.read_csv(\"healthcare-dataset-stroke-data.csv\")"
   ]
  },
  {
   "cell_type": "code",
   "execution_count": 40,
   "id": "78dee021",
   "metadata": {},
   "outputs": [],
   "source": [
    "df = data.copy()"
   ]
  },
  {
   "cell_type": "markdown",
   "id": "53815bd7",
   "metadata": {},
   "source": [
    "### Feature Definitions"
   ]
  },
  {
   "cell_type": "markdown",
   "id": "f1a07fcb",
   "metadata": {},
   "source": [
    "- **id**: Unique patient identifier (integer).  \n",
    "- **gender**: Patient gender (Male, Female, or Other).  \n",
    "- **age**: Patient age in years (float).  \n",
    "- **hypertension**: Binary indicator of hypertension (0 = No, 1 = Yes).  \n",
    "- **heart_disease**: Binary indicator of heart disease (0 = No, 1 = Yes).  \n",
    "- **ever_married**: Marital status (Yes/No).  \n",
    "- **work_type**: Type of employment (e.g., Private, Self-employed, Govt_job, Children, Never_worked).  \n",
    "- **Residence_type**: Urban or Rural residence.  \n",
    "- **avg_glucose_level**: Average blood glucose level (float).  \n",
    "- **bmi**: Body Mass Index (float).\n",
    "- **smoking_status**: Smoking status (Never smoked, Formerly smoked, Smokes, Unknown).  \n",
    "- **stroke**: Target variable indicating stroke occurrence (0 = No, 1 = Yes)."
   ]
  },
  {
   "cell_type": "markdown",
   "id": "2163f201",
   "metadata": {},
   "source": [
    "### General Data Overview"
   ]
  },
  {
   "cell_type": "markdown",
   "id": "7c1bbcea",
   "metadata": {},
   "source": [
    "Checking the columns:"
   ]
  },
  {
   "cell_type": "code",
   "execution_count": 41,
   "id": "6ab328d9",
   "metadata": {},
   "outputs": [
    {
     "data": {
      "text/plain": [
       "Index(['id', 'gender', 'age', 'hypertension', 'heart_disease', 'ever_married',\n",
       "       'work_type', 'Residence_type', 'avg_glucose_level', 'bmi',\n",
       "       'smoking_status', 'stroke'],\n",
       "      dtype='object')"
      ]
     },
     "execution_count": 41,
     "metadata": {},
     "output_type": "execute_result"
    }
   ],
   "source": [
    "df.columns"
   ]
  },
  {
   "cell_type": "markdown",
   "id": "ff74f05a",
   "metadata": {},
   "source": [
    "The ID column is unnecessary and provides no value, I can drop it:"
   ]
  },
  {
   "cell_type": "code",
   "execution_count": null,
   "id": "b7f8a203",
   "metadata": {},
   "outputs": [],
   "source": [
    "df.drop(columns=[\"id\"], inplace=True)"
   ]
  },
  {
   "cell_type": "markdown",
   "id": "56714803",
   "metadata": {},
   "source": [
    "Checking the shape of the dataset:"
   ]
  },
  {
   "cell_type": "code",
   "execution_count": 43,
   "id": "32d75980",
   "metadata": {},
   "outputs": [
    {
     "data": {
      "text/plain": [
       "(5110, 11)"
      ]
     },
     "execution_count": 43,
     "metadata": {},
     "output_type": "execute_result"
    }
   ],
   "source": [
    "df.shape"
   ]
  },
  {
   "cell_type": "markdown",
   "id": "21256b20",
   "metadata": {},
   "source": [
    "Previewing the tail of the data set:"
   ]
  },
  {
   "cell_type": "code",
   "execution_count": 44,
   "id": "4899ff5d",
   "metadata": {},
   "outputs": [
    {
     "data": {
      "text/html": [
       "<div>\n",
       "<style scoped>\n",
       "    .dataframe tbody tr th:only-of-type {\n",
       "        vertical-align: middle;\n",
       "    }\n",
       "\n",
       "    .dataframe tbody tr th {\n",
       "        vertical-align: top;\n",
       "    }\n",
       "\n",
       "    .dataframe thead th {\n",
       "        text-align: right;\n",
       "    }\n",
       "</style>\n",
       "<table border=\"1\" class=\"dataframe\">\n",
       "  <thead>\n",
       "    <tr style=\"text-align: right;\">\n",
       "      <th></th>\n",
       "      <th>gender</th>\n",
       "      <th>age</th>\n",
       "      <th>hypertension</th>\n",
       "      <th>heart_disease</th>\n",
       "      <th>ever_married</th>\n",
       "      <th>work_type</th>\n",
       "      <th>Residence_type</th>\n",
       "      <th>avg_glucose_level</th>\n",
       "      <th>bmi</th>\n",
       "      <th>smoking_status</th>\n",
       "      <th>stroke</th>\n",
       "    </tr>\n",
       "  </thead>\n",
       "  <tbody>\n",
       "    <tr>\n",
       "      <th>5105</th>\n",
       "      <td>Female</td>\n",
       "      <td>80.0</td>\n",
       "      <td>1</td>\n",
       "      <td>0</td>\n",
       "      <td>Yes</td>\n",
       "      <td>Private</td>\n",
       "      <td>Urban</td>\n",
       "      <td>83.75</td>\n",
       "      <td>NaN</td>\n",
       "      <td>never smoked</td>\n",
       "      <td>0</td>\n",
       "    </tr>\n",
       "    <tr>\n",
       "      <th>5106</th>\n",
       "      <td>Female</td>\n",
       "      <td>81.0</td>\n",
       "      <td>0</td>\n",
       "      <td>0</td>\n",
       "      <td>Yes</td>\n",
       "      <td>Self-employed</td>\n",
       "      <td>Urban</td>\n",
       "      <td>125.20</td>\n",
       "      <td>40.0</td>\n",
       "      <td>never smoked</td>\n",
       "      <td>0</td>\n",
       "    </tr>\n",
       "    <tr>\n",
       "      <th>5107</th>\n",
       "      <td>Female</td>\n",
       "      <td>35.0</td>\n",
       "      <td>0</td>\n",
       "      <td>0</td>\n",
       "      <td>Yes</td>\n",
       "      <td>Self-employed</td>\n",
       "      <td>Rural</td>\n",
       "      <td>82.99</td>\n",
       "      <td>30.6</td>\n",
       "      <td>never smoked</td>\n",
       "      <td>0</td>\n",
       "    </tr>\n",
       "    <tr>\n",
       "      <th>5108</th>\n",
       "      <td>Male</td>\n",
       "      <td>51.0</td>\n",
       "      <td>0</td>\n",
       "      <td>0</td>\n",
       "      <td>Yes</td>\n",
       "      <td>Private</td>\n",
       "      <td>Rural</td>\n",
       "      <td>166.29</td>\n",
       "      <td>25.6</td>\n",
       "      <td>formerly smoked</td>\n",
       "      <td>0</td>\n",
       "    </tr>\n",
       "    <tr>\n",
       "      <th>5109</th>\n",
       "      <td>Female</td>\n",
       "      <td>44.0</td>\n",
       "      <td>0</td>\n",
       "      <td>0</td>\n",
       "      <td>Yes</td>\n",
       "      <td>Govt_job</td>\n",
       "      <td>Urban</td>\n",
       "      <td>85.28</td>\n",
       "      <td>26.2</td>\n",
       "      <td>Unknown</td>\n",
       "      <td>0</td>\n",
       "    </tr>\n",
       "  </tbody>\n",
       "</table>\n",
       "</div>"
      ],
      "text/plain": [
       "      gender   age  hypertension  heart_disease ever_married      work_type  \\\n",
       "5105  Female  80.0             1              0          Yes        Private   \n",
       "5106  Female  81.0             0              0          Yes  Self-employed   \n",
       "5107  Female  35.0             0              0          Yes  Self-employed   \n",
       "5108    Male  51.0             0              0          Yes        Private   \n",
       "5109  Female  44.0             0              0          Yes       Govt_job   \n",
       "\n",
       "     Residence_type  avg_glucose_level   bmi   smoking_status  stroke  \n",
       "5105          Urban              83.75   NaN     never smoked       0  \n",
       "5106          Urban             125.20  40.0     never smoked       0  \n",
       "5107          Rural              82.99  30.6     never smoked       0  \n",
       "5108          Rural             166.29  25.6  formerly smoked       0  \n",
       "5109          Urban              85.28  26.2          Unknown       0  "
      ]
     },
     "execution_count": 44,
     "metadata": {},
     "output_type": "execute_result"
    }
   ],
   "source": [
    "df.tail()"
   ]
  },
  {
   "cell_type": "markdown",
   "id": "9a3f025d",
   "metadata": {},
   "source": [
    "**Interpretation:** Sample data shows varied patient details with some missing BMI values and cathegorical features needing encoding."
   ]
  },
  {
   "cell_type": "code",
   "execution_count": 45,
   "id": "4b9cf723",
   "metadata": {},
   "outputs": [
    {
     "data": {
      "text/html": [
       "<div>\n",
       "<style scoped>\n",
       "    .dataframe tbody tr th:only-of-type {\n",
       "        vertical-align: middle;\n",
       "    }\n",
       "\n",
       "    .dataframe tbody tr th {\n",
       "        vertical-align: top;\n",
       "    }\n",
       "\n",
       "    .dataframe thead th {\n",
       "        text-align: right;\n",
       "    }\n",
       "</style>\n",
       "<table border=\"1\" class=\"dataframe\">\n",
       "  <thead>\n",
       "    <tr style=\"text-align: right;\">\n",
       "      <th></th>\n",
       "      <th>age</th>\n",
       "      <th>hypertension</th>\n",
       "      <th>heart_disease</th>\n",
       "      <th>avg_glucose_level</th>\n",
       "      <th>bmi</th>\n",
       "      <th>stroke</th>\n",
       "    </tr>\n",
       "  </thead>\n",
       "  <tbody>\n",
       "    <tr>\n",
       "      <th>count</th>\n",
       "      <td>5110.000000</td>\n",
       "      <td>5110.000000</td>\n",
       "      <td>5110.000000</td>\n",
       "      <td>5110.000000</td>\n",
       "      <td>4909.000000</td>\n",
       "      <td>5110.000000</td>\n",
       "    </tr>\n",
       "    <tr>\n",
       "      <th>mean</th>\n",
       "      <td>43.226614</td>\n",
       "      <td>0.097456</td>\n",
       "      <td>0.054012</td>\n",
       "      <td>106.147677</td>\n",
       "      <td>28.893237</td>\n",
       "      <td>0.048728</td>\n",
       "    </tr>\n",
       "    <tr>\n",
       "      <th>std</th>\n",
       "      <td>22.612647</td>\n",
       "      <td>0.296607</td>\n",
       "      <td>0.226063</td>\n",
       "      <td>45.283560</td>\n",
       "      <td>7.854067</td>\n",
       "      <td>0.215320</td>\n",
       "    </tr>\n",
       "    <tr>\n",
       "      <th>min</th>\n",
       "      <td>0.080000</td>\n",
       "      <td>0.000000</td>\n",
       "      <td>0.000000</td>\n",
       "      <td>55.120000</td>\n",
       "      <td>10.300000</td>\n",
       "      <td>0.000000</td>\n",
       "    </tr>\n",
       "    <tr>\n",
       "      <th>25%</th>\n",
       "      <td>25.000000</td>\n",
       "      <td>0.000000</td>\n",
       "      <td>0.000000</td>\n",
       "      <td>77.245000</td>\n",
       "      <td>23.500000</td>\n",
       "      <td>0.000000</td>\n",
       "    </tr>\n",
       "    <tr>\n",
       "      <th>50%</th>\n",
       "      <td>45.000000</td>\n",
       "      <td>0.000000</td>\n",
       "      <td>0.000000</td>\n",
       "      <td>91.885000</td>\n",
       "      <td>28.100000</td>\n",
       "      <td>0.000000</td>\n",
       "    </tr>\n",
       "    <tr>\n",
       "      <th>75%</th>\n",
       "      <td>61.000000</td>\n",
       "      <td>0.000000</td>\n",
       "      <td>0.000000</td>\n",
       "      <td>114.090000</td>\n",
       "      <td>33.100000</td>\n",
       "      <td>0.000000</td>\n",
       "    </tr>\n",
       "    <tr>\n",
       "      <th>max</th>\n",
       "      <td>82.000000</td>\n",
       "      <td>1.000000</td>\n",
       "      <td>1.000000</td>\n",
       "      <td>271.740000</td>\n",
       "      <td>97.600000</td>\n",
       "      <td>1.000000</td>\n",
       "    </tr>\n",
       "  </tbody>\n",
       "</table>\n",
       "</div>"
      ],
      "text/plain": [
       "               age  hypertension  heart_disease  avg_glucose_level  \\\n",
       "count  5110.000000   5110.000000    5110.000000        5110.000000   \n",
       "mean     43.226614      0.097456       0.054012         106.147677   \n",
       "std      22.612647      0.296607       0.226063          45.283560   \n",
       "min       0.080000      0.000000       0.000000          55.120000   \n",
       "25%      25.000000      0.000000       0.000000          77.245000   \n",
       "50%      45.000000      0.000000       0.000000          91.885000   \n",
       "75%      61.000000      0.000000       0.000000         114.090000   \n",
       "max      82.000000      1.000000       1.000000         271.740000   \n",
       "\n",
       "               bmi       stroke  \n",
       "count  4909.000000  5110.000000  \n",
       "mean     28.893237     0.048728  \n",
       "std       7.854067     0.215320  \n",
       "min      10.300000     0.000000  \n",
       "25%      23.500000     0.000000  \n",
       "50%      28.100000     0.000000  \n",
       "75%      33.100000     0.000000  \n",
       "max      97.600000     1.000000  "
      ]
     },
     "execution_count": 45,
     "metadata": {},
     "output_type": "execute_result"
    }
   ],
   "source": [
    "df.describe()"
   ]
  },
  {
   "cell_type": "markdown",
   "id": "3ac34fa9",
   "metadata": {},
   "source": [
    "**Interpretation:** \n",
    "\n",
    "- Numerical features show wide ranges: age spans from infancy to 82, average glucose levels and BMI have high variability.\n",
    "\n",
    "- Stroke prevalence is low, about 5%, suggesting that there's class imbalance.\n",
    "\n",
    "- Again confirmed that BMI has missing values."
   ]
  },
  {
   "cell_type": "markdown",
   "id": "9ef256da",
   "metadata": {},
   "source": [
    "### Splitting the Data"
   ]
  },
  {
   "cell_type": "markdown",
   "id": "6f7e0271",
   "metadata": {},
   "source": [
    "I will split data early to avoid data leakage."
   ]
  },
  {
   "cell_type": "markdown",
   "id": "4997094d",
   "metadata": {},
   "source": [
    "Defining features and target:"
   ]
  },
  {
   "cell_type": "code",
   "execution_count": null,
   "id": "b78b31d1",
   "metadata": {},
   "outputs": [],
   "source": [
    "X = df.drop(\"stroke\", axis=1)\n",
    "y = df[\"stroke\"]"
   ]
  },
  {
   "cell_type": "markdown",
   "id": "8b62d9c2",
   "metadata": {},
   "source": [
    "Splitting into training and testing sets:"
   ]
  },
  {
   "cell_type": "code",
   "execution_count": null,
   "id": "07e62941",
   "metadata": {},
   "outputs": [],
   "source": [
    "X_train, X_test, y_train, y_test = train_test_split(\n",
    "    X, y, test_size=0.3, random_state=42, stratify=y\n",
    ")"
   ]
  },
  {
   "cell_type": "markdown",
   "id": "f4d5a63a",
   "metadata": {},
   "source": [
    "Confirming shapes:"
   ]
  },
  {
   "cell_type": "code",
   "execution_count": 48,
   "id": "6111c8c5",
   "metadata": {},
   "outputs": [
    {
     "name": "stdout",
     "output_type": "stream",
     "text": [
      "Training set size: (3577, 10)\n",
      "Testing set size: (1533, 10)\n"
     ]
    }
   ],
   "source": [
    "print(\"Training set size:\", X_train.shape)\n",
    "print(\"Testing set size:\", X_test.shape)"
   ]
  },
  {
   "cell_type": "markdown",
   "id": "404c355c",
   "metadata": {},
   "source": [
    "**Interpretation:** I splitted data to 70/30 instead of 80/20, to ensure sufficient stroke cases in the test set for evaluation, adressing the class imbalance, dataset size and possibly improving the reliability of performance metrics."
   ]
  },
  {
   "cell_type": "markdown",
   "id": "e07ce65d",
   "metadata": {},
   "source": [
    "## Data Cleaning (Training Data)"
   ]
  },
  {
   "cell_type": "markdown",
   "id": "77feb822",
   "metadata": {},
   "source": [
    "Checking for duplicates:"
   ]
  },
  {
   "cell_type": "code",
   "execution_count": 49,
   "id": "8330c8d8",
   "metadata": {},
   "outputs": [
    {
     "data": {
      "text/plain": [
       "np.int64(0)"
      ]
     },
     "execution_count": 49,
     "metadata": {},
     "output_type": "execute_result"
    }
   ],
   "source": [
    "df.duplicated().sum()"
   ]
  },
  {
   "cell_type": "markdown",
   "id": "4b6a477d",
   "metadata": {},
   "source": [
    "Confirming missing values:"
   ]
  },
  {
   "cell_type": "code",
   "execution_count": 50,
   "id": "73b01f81",
   "metadata": {},
   "outputs": [
    {
     "data": {
      "text/plain": [
       "np.int64(201)"
      ]
     },
     "execution_count": 50,
     "metadata": {},
     "output_type": "execute_result"
    }
   ],
   "source": [
    "df.isnull().sum().sum()"
   ]
  },
  {
   "cell_type": "code",
   "execution_count": null,
   "id": "ea447d37",
   "metadata": {},
   "outputs": [
    {
     "data": {
      "text/html": [
       "<div>\n",
       "<style scoped>\n",
       "    .dataframe tbody tr th:only-of-type {\n",
       "        vertical-align: middle;\n",
       "    }\n",
       "\n",
       "    .dataframe tbody tr th {\n",
       "        vertical-align: top;\n",
       "    }\n",
       "\n",
       "    .dataframe thead th {\n",
       "        text-align: right;\n",
       "    }\n",
       "</style>\n",
       "<table border=\"1\" class=\"dataframe\">\n",
       "  <thead>\n",
       "    <tr style=\"text-align: right;\">\n",
       "      <th></th>\n",
       "      <th>age</th>\n",
       "      <th>hypertension</th>\n",
       "      <th>heart_disease</th>\n",
       "      <th>avg_glucose_level</th>\n",
       "      <th>bmi</th>\n",
       "      <th>stroke</th>\n",
       "    </tr>\n",
       "  </thead>\n",
       "  <tbody>\n",
       "    <tr>\n",
       "      <th>count</th>\n",
       "      <td>201.000000</td>\n",
       "      <td>201.000000</td>\n",
       "      <td>201.000000</td>\n",
       "      <td>201.000000</td>\n",
       "      <td>0.0</td>\n",
       "      <td>201.000000</td>\n",
       "    </tr>\n",
       "    <tr>\n",
       "      <th>mean</th>\n",
       "      <td>52.049154</td>\n",
       "      <td>0.233831</td>\n",
       "      <td>0.164179</td>\n",
       "      <td>126.724627</td>\n",
       "      <td>NaN</td>\n",
       "      <td>0.199005</td>\n",
       "    </tr>\n",
       "    <tr>\n",
       "      <th>std</th>\n",
       "      <td>22.276181</td>\n",
       "      <td>0.424323</td>\n",
       "      <td>0.371363</td>\n",
       "      <td>59.240322</td>\n",
       "      <td>NaN</td>\n",
       "      <td>0.400249</td>\n",
       "    </tr>\n",
       "    <tr>\n",
       "      <th>min</th>\n",
       "      <td>0.480000</td>\n",
       "      <td>0.000000</td>\n",
       "      <td>0.000000</td>\n",
       "      <td>57.520000</td>\n",
       "      <td>NaN</td>\n",
       "      <td>0.000000</td>\n",
       "    </tr>\n",
       "    <tr>\n",
       "      <th>25%</th>\n",
       "      <td>37.000000</td>\n",
       "      <td>0.000000</td>\n",
       "      <td>0.000000</td>\n",
       "      <td>81.430000</td>\n",
       "      <td>NaN</td>\n",
       "      <td>0.000000</td>\n",
       "    </tr>\n",
       "    <tr>\n",
       "      <th>50%</th>\n",
       "      <td>58.000000</td>\n",
       "      <td>0.000000</td>\n",
       "      <td>0.000000</td>\n",
       "      <td>99.870000</td>\n",
       "      <td>NaN</td>\n",
       "      <td>0.000000</td>\n",
       "    </tr>\n",
       "    <tr>\n",
       "      <th>75%</th>\n",
       "      <td>71.000000</td>\n",
       "      <td>0.000000</td>\n",
       "      <td>0.000000</td>\n",
       "      <td>191.790000</td>\n",
       "      <td>NaN</td>\n",
       "      <td>0.000000</td>\n",
       "    </tr>\n",
       "    <tr>\n",
       "      <th>max</th>\n",
       "      <td>82.000000</td>\n",
       "      <td>1.000000</td>\n",
       "      <td>1.000000</td>\n",
       "      <td>260.850000</td>\n",
       "      <td>NaN</td>\n",
       "      <td>1.000000</td>\n",
       "    </tr>\n",
       "  </tbody>\n",
       "</table>\n",
       "</div>"
      ],
      "text/plain": [
       "              age  hypertension  heart_disease  avg_glucose_level  bmi  \\\n",
       "count  201.000000    201.000000     201.000000         201.000000  0.0   \n",
       "mean    52.049154      0.233831       0.164179         126.724627  NaN   \n",
       "std     22.276181      0.424323       0.371363          59.240322  NaN   \n",
       "min      0.480000      0.000000       0.000000          57.520000  NaN   \n",
       "25%     37.000000      0.000000       0.000000          81.430000  NaN   \n",
       "50%     58.000000      0.000000       0.000000          99.870000  NaN   \n",
       "75%     71.000000      0.000000       0.000000         191.790000  NaN   \n",
       "max     82.000000      1.000000       1.000000         260.850000  NaN   \n",
       "\n",
       "           stroke  \n",
       "count  201.000000  \n",
       "mean     0.199005  \n",
       "std      0.400249  \n",
       "min      0.000000  \n",
       "25%      0.000000  \n",
       "50%      0.000000  \n",
       "75%      0.000000  \n",
       "max      1.000000  "
      ]
     },
     "execution_count": 51,
     "metadata": {},
     "output_type": "execute_result"
    }
   ],
   "source": [
    "df[df[\"bmi\"].isnull()].describe()"
   ]
  },
  {
   "cell_type": "markdown",
   "id": "8a6f66c3",
   "metadata": {},
   "source": [
    "**Interpretation:** Exploration shows BMI is more often missing in older, higher-risk patients. To reduce bias, median imputation within age groups will be applied instead of single global median."
   ]
  },
  {
   "cell_type": "markdown",
   "id": "8091cdc8",
   "metadata": {},
   "source": [
    "Binning age into groups:"
   ]
  },
  {
   "cell_type": "code",
   "execution_count": null,
   "id": "caeaa6dc",
   "metadata": {},
   "outputs": [],
   "source": [
    "age_bins = [0, 1, 4, 12, 19, 39, 59, 64, 120]\n",
    "age_labels = [\n",
    "    \"Infant\",\n",
    "    \"Toddler\",\n",
    "    \"Child\",\n",
    "    \"Teen\",\n",
    "    \"Young Adult\",\n",
    "    \"Middle-Aged Adult\",\n",
    "    \"Senior Adult\",\n",
    "    \"Elderly\",\n",
    "]"
   ]
  },
  {
   "cell_type": "markdown",
   "id": "e809dcea",
   "metadata": {},
   "source": [
    "Creating age_group column:"
   ]
  },
  {
   "cell_type": "code",
   "execution_count": null,
   "id": "d4058651",
   "metadata": {},
   "outputs": [],
   "source": [
    "df[\"age_group\"] = pd.cut(\n",
    "    df[\"age\"], bins=age_bins, labels=age_labels, right=True, include_lowest=True\n",
    ")"
   ]
  },
  {
   "cell_type": "markdown",
   "id": "9b36a947",
   "metadata": {},
   "source": [
    "Imputing BMI withing age groups:"
   ]
  },
  {
   "cell_type": "code",
   "execution_count": null,
   "id": "579bbca6",
   "metadata": {},
   "outputs": [],
   "source": [
    "df[\"bmi\"] = df.groupby(\"age_group\", observed=False)[\"bmi\"].transform(\n",
    "    lambda x: x.fillna(x.median())\n",
    ")"
   ]
  },
  {
   "cell_type": "markdown",
   "id": "52576b54",
   "metadata": {},
   "source": [
    "Confirming the change:"
   ]
  },
  {
   "cell_type": "code",
   "execution_count": 55,
   "id": "d9d4fcc8",
   "metadata": {},
   "outputs": [
    {
     "data": {
      "text/plain": [
       "Index(['gender', 'age', 'hypertension', 'heart_disease', 'ever_married',\n",
       "       'work_type', 'Residence_type', 'avg_glucose_level', 'bmi',\n",
       "       'smoking_status', 'stroke', 'age_group'],\n",
       "      dtype='object')"
      ]
     },
     "execution_count": 55,
     "metadata": {},
     "output_type": "execute_result"
    }
   ],
   "source": [
    "df.columns"
   ]
  },
  {
   "cell_type": "markdown",
   "id": "6c7ea57e",
   "metadata": {},
   "source": [
    "Confirming there no missing values left:"
   ]
  },
  {
   "cell_type": "code",
   "execution_count": 56,
   "id": "fff91b53",
   "metadata": {},
   "outputs": [
    {
     "data": {
      "text/plain": [
       "np.int64(0)"
      ]
     },
     "execution_count": 56,
     "metadata": {},
     "output_type": "execute_result"
    }
   ],
   "source": [
    "df.isnull().sum().sum()"
   ]
  },
  {
   "cell_type": "markdown",
   "id": "981a7e47",
   "metadata": {},
   "source": [
    "**Interpretation:** \n",
    "\n",
    "- Age was binned into clinically meaningful groups and new column of age group was created. \n",
    "\n",
    "- Missing BMI values were impurted using the median BMI withing each age group to reduce bias and reflect age-specific health profiles."
   ]
  },
  {
   "cell_type": "markdown",
   "id": "463e031d",
   "metadata": {},
   "source": [
    "## Outliers"
   ]
  },
  {
   "cell_type": "markdown",
   "id": "6c67228e",
   "metadata": {},
   "source": [
    "Defining numerical columns:"
   ]
  },
  {
   "cell_type": "code",
   "execution_count": null,
   "id": "8a33312a",
   "metadata": {},
   "outputs": [],
   "source": [
    "num_cols = [\"age\", \"avg_glucose_level\", \"bmi\"]"
   ]
  },
  {
   "cell_type": "markdown",
   "id": "86af09ca",
   "metadata": {},
   "source": [
    "Visualizing it in a boxplots:"
   ]
  },
  {
   "cell_type": "code",
   "execution_count": null,
   "id": "89e68dbb",
   "metadata": {},
   "outputs": [
    {
     "data": {
      "image/png": "[encoded data removed]",
      "text/plain": [
       "<Figure size 1500x500 with 3 Axes>"
      ]
     },
     "metadata": {},
     "output_type": "display_data"
    }
   ],
   "source": [
    "colors = sns.color_palette(\"magma\", n_colors=3)\n",
    "\n",
    "plt.figure(figsize=(15, 5))\n",
    "for i, (col, color) in enumerate(zip(num_cols, colors), 1):\n",
    "    plt.subplot(1, 3, i)\n",
    "    sns.boxplot(y=df[col], color=color)\n",
    "    plt.title(f\"Boxplot of {col}\", fontsize=18, y=1.01)\n",
    "\n",
    "plt.tight_layout()\n",
    "plt.suptitle(\"Boxplots of Numerical Features\", fontsize=20, y=1.05, weight=\"bold\")\n",
    "plt.show()"
   ]
  },
  {
   "cell_type": "markdown",
   "id": "ed87471c",
   "metadata": {},
   "source": [
    "**Interpretation:** \n",
    "\n",
    "- Age feature does not have extreme outliers, \n",
    "\n",
    "- BMI and average glucose level has some way higher values than usual, which could be considerable outliers. \n",
    "\n",
    "- BMI >60–70 is possible but extremely rare.\n",
    "\n",
    "- Avg glucose has extreme high outliers (250+)\n",
    "\n",
    "\n",
    "\n",
    "\n",
    "\n",
    "\n"
   ]
  },
  {
   "cell_type": "markdown",
   "id": "a94aad73",
   "metadata": {},
   "source": [
    "Logging average glucose values:"
   ]
  },
  {
   "cell_type": "code",
   "execution_count": null,
   "id": "e0c56d4e",
   "metadata": {},
   "outputs": [],
   "source": [
    "df[\"avg_glucose_level_log\"] = np.log(df[\"avg_glucose_level\"])"
   ]
  },
  {
   "cell_type": "markdown",
   "id": "cb486c06",
   "metadata": {},
   "source": [
    "Capping BMI:"
   ]
  },
  {
   "cell_type": "code",
   "execution_count": null,
   "id": "a1faf945",
   "metadata": {},
   "outputs": [],
   "source": [
    "upper_limit_bmi = df[\"bmi\"].quantile(0.99)\n",
    "df[\"bmi_capped\"] = np.where(df[\"bmi\"] > upper_limit_bmi, upper_limit_bmi, df[\"bmi\"])"
   ]
  },
  {
   "cell_type": "code",
   "execution_count": 80,
   "id": "2748588f",
   "metadata": {},
   "outputs": [
    {
     "data": {
      "text/plain": [
       "Index(['gender', 'age', 'hypertension', 'heart_disease', 'ever_married',\n",
       "       'work_type', 'Residence_type', 'avg_glucose_level', 'bmi',\n",
       "       'smoking_status', 'stroke', 'age_group', 'avg_glucose_level_log',\n",
       "       'bmi_capped'],\n",
       "      dtype='object')"
      ]
     },
     "execution_count": 80,
     "metadata": {},
     "output_type": "execute_result"
    }
   ],
   "source": [
    "df.columns"
   ]
  },
  {
   "cell_type": "code",
   "execution_count": null,
   "id": "52b925e7",
   "metadata": {},
   "outputs": [
    {
     "data": {
      "image/png": "[encoded data removed]",
      "text/plain": [
       "<Figure size 1500x500 with 3 Axes>"
      ]
     },
     "metadata": {},
     "output_type": "display_data"
    }
   ],
   "source": [
    "num_cols = [\"age\", \"avg_glucose_level_log\", \"bmi_capped\"]\n",
    "\n",
    "colors = sns.color_palette(\"magma\", n_colors=3)\n",
    "\n",
    "plt.figure(figsize=(15, 5))\n",
    "for i, (col, color) in enumerate(zip(num_cols, colors), 1):\n",
    "    plt.subplot(1, 3, i)\n",
    "    sns.boxplot(y=df[col], color=color)\n",
    "    plt.title(f\"Boxplot of {col}\", fontsize=18, y=1.01)\n",
    "\n",
    "plt.tight_layout()\n",
    "plt.suptitle(\n",
    "    \"Boxplots of Cleaned Numerical Features\", fontsize=20, y=1.05, weight=\"bold\"\n",
    ")\n",
    "plt.show()"
   ]
  },
  {
   "cell_type": "markdown",
   "id": "03a87228",
   "metadata": {},
   "source": [
    "**Interpretation:** \n",
    "\n",
    "- Outliers successfully dealt with. \n",
    "\n",
    "- BMI was capped at 99% percentile limit to lower the influence of extreme outliers and preserve interprebility.\n",
    "\n",
    "- To preserve relative difference avg_glucose values were logged to reduce skewness."
   ]
  },
  {
   "cell_type": "markdown",
   "id": "703a790f",
   "metadata": {},
   "source": [
    "### Cathegorical Encoding Plan"
   ]
  },
  {
   "cell_type": "markdown",
   "id": "f5108869",
   "metadata": {},
   "source": [
    "Reviewing cathegorical rows values:"
   ]
  },
  {
   "cell_type": "markdown",
   "id": "1f8fa982",
   "metadata": {},
   "source": [
    "| Variable        | Categories                             |\n",
    "| --------------- | ---------------------------------------------- |\n",
    "| gender          | Male, Female, Other                            |\n",
    "| ever\\_married   | Yes, No                                        |\n",
    "| work\\_type      | Private, Govt\\_job, Self-employed, etc.        |\n",
    "| Residence\\_type | Urban, Rural                                   |\n",
    "| smoking\\_status | never smoked, formerly smoked, smokes, Unknown |\n",
    "| age\\_group      | Infant, Toddler, Child, Teen, etc.             |\n"
   ]
  },
  {
   "cell_type": "markdown",
   "id": "547c7643",
   "metadata": {},
   "source": [
    "For variables with only 2 categories I will use Binary encoding (0/1):\n",
    "- ever_married\n",
    "- residence_type"
   ]
  },
  {
   "cell_type": "markdown",
   "id": "c0593c38",
   "metadata": {},
   "source": [
    "For variables with 3 categories or more I will use OneHot Encoding. That includes:\n",
    "\n",
    "- gender\n",
    "- work_type\n",
    "- smoking_status\n",
    "- age_group"
   ]
  }
 ],
 "metadata": {
  "kernelspec": {
   "display_name": "Python 3",
   "language": "python",
   "name": "python3"
  },
  "language_info": {
   "codemirror_mode": {
    "name": "ipython",
    "version": 3
   },
   "file_extension": ".py",
   "mimetype": "text/x-python",
   "name": "python",
   "nbconvert_exporter": "python",
   "pygments_lexer": "ipython3",
   "version": "3.13.0"
  }
 },
 "nbformat": 4,
 "nbformat_minor": 5
}
